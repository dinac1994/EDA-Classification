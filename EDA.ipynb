{
  "nbformat": 4,
  "nbformat_minor": 0,
  "metadata": {
    "colab": {
      "name": "EDA.ipynb",
      "provenance": [],
      "collapsed_sections": []
    },
    "kernelspec": {
      "name": "python3",
      "display_name": "Python 3"
    },
    "language_info": {
      "name": "python"
    }
  },
  "cells": [
    {
      "cell_type": "markdown",
      "metadata": {
        "id": "_Orp1PlYN_Ia"
      },
      "source": [
        "# Explorative Data Analysis & ML prediction models on Toy Dataset"
      ]
    },
    {
      "cell_type": "markdown",
      "metadata": {
        "id": "W9NlmBp8-ibJ"
      },
      "source": [
        "### Needed libraries and loading data"
      ]
    },
    {
      "cell_type": "code",
      "metadata": {
        "id": "JcbBrLvw-n4N"
      },
      "source": [
        "import pandas as pd\n",
        "import numpy as np\n",
        "import tensorflow as tf\n",
        "import seaborn as sns \n",
        "import matplotlib.pyplot as plt\n",
        "%matplotlib inline \n",
        "sns.set(color_codes=True)"
      ],
      "execution_count": 1,
      "outputs": []
    },
    {
      "cell_type": "code",
      "metadata": {
        "colab": {
          "base_uri": "https://localhost:8080/",
          "height": 206
        },
        "id": "zXjFumqE-n6q",
        "outputId": "5ffcdb94-577f-4a95-dfd3-cf67177f90e0"
      },
      "source": [
        "df = pd.read_csv(\"toy_dataset.csv\")\n",
        "df.head(5)"
      ],
      "execution_count": 3,
      "outputs": [
        {
          "output_type": "execute_result",
          "data": {
            "text/html": [
              "<div>\n",
              "<style scoped>\n",
              "    .dataframe tbody tr th:only-of-type {\n",
              "        vertical-align: middle;\n",
              "    }\n",
              "\n",
              "    .dataframe tbody tr th {\n",
              "        vertical-align: top;\n",
              "    }\n",
              "\n",
              "    .dataframe thead th {\n",
              "        text-align: right;\n",
              "    }\n",
              "</style>\n",
              "<table border=\"1\" class=\"dataframe\">\n",
              "  <thead>\n",
              "    <tr style=\"text-align: right;\">\n",
              "      <th></th>\n",
              "      <th>Number</th>\n",
              "      <th>City</th>\n",
              "      <th>Gender</th>\n",
              "      <th>Age</th>\n",
              "      <th>Income</th>\n",
              "      <th>Illness</th>\n",
              "    </tr>\n",
              "  </thead>\n",
              "  <tbody>\n",
              "    <tr>\n",
              "      <th>0</th>\n",
              "      <td>1</td>\n",
              "      <td>Dallas</td>\n",
              "      <td>Male</td>\n",
              "      <td>41</td>\n",
              "      <td>40367.0</td>\n",
              "      <td>No</td>\n",
              "    </tr>\n",
              "    <tr>\n",
              "      <th>1</th>\n",
              "      <td>2</td>\n",
              "      <td>Dallas</td>\n",
              "      <td>Male</td>\n",
              "      <td>54</td>\n",
              "      <td>45084.0</td>\n",
              "      <td>No</td>\n",
              "    </tr>\n",
              "    <tr>\n",
              "      <th>2</th>\n",
              "      <td>3</td>\n",
              "      <td>Dallas</td>\n",
              "      <td>Male</td>\n",
              "      <td>42</td>\n",
              "      <td>52483.0</td>\n",
              "      <td>No</td>\n",
              "    </tr>\n",
              "    <tr>\n",
              "      <th>3</th>\n",
              "      <td>4</td>\n",
              "      <td>Dallas</td>\n",
              "      <td>Male</td>\n",
              "      <td>40</td>\n",
              "      <td>40941.0</td>\n",
              "      <td>No</td>\n",
              "    </tr>\n",
              "    <tr>\n",
              "      <th>4</th>\n",
              "      <td>5</td>\n",
              "      <td>Dallas</td>\n",
              "      <td>Male</td>\n",
              "      <td>46</td>\n",
              "      <td>50289.0</td>\n",
              "      <td>No</td>\n",
              "    </tr>\n",
              "  </tbody>\n",
              "</table>\n",
              "</div>"
            ],
            "text/plain": [
              "   Number    City Gender  Age   Income Illness\n",
              "0       1  Dallas   Male   41  40367.0      No\n",
              "1       2  Dallas   Male   54  45084.0      No\n",
              "2       3  Dallas   Male   42  52483.0      No\n",
              "3       4  Dallas   Male   40  40941.0      No\n",
              "4       5  Dallas   Male   46  50289.0      No"
            ]
          },
          "metadata": {},
          "execution_count": 3
        }
      ]
    },
    {
      "cell_type": "markdown",
      "metadata": {
        "id": "_jvHtMY-AF5E"
      },
      "source": [
        "## Explorative Data Analysis\n",
        "\n",
        "One of goals of the Explorative Data Analysis (EDA for short) is to clean and reduce the given dataset so we could produce a better ML prediction model.\n",
        "\n",
        "Steps of cleaning data:\n",
        "\n",
        "1.   Removing rows that contain missing/null values.\n",
        "2.   Removing identical rows.\n",
        "3.   Removing non-important columns (space reduction #1).\n",
        "4.   Removing attributes (columns) that are highly correlated between eachother.\n",
        "5.   Removing outliers."
      ]
    },
    {
      "cell_type": "markdown",
      "metadata": {
        "id": "7vzjGWtxBODb"
      },
      "source": [
        "## Getting known with the dataset\n",
        "\n",
        "Before cleaning the dataset, we should get familiar with it. Explore the basic things like the size of the dataset, types of data, mean/median/standard deviation for each attribute etc."
      ]
    },
    {
      "cell_type": "code",
      "metadata": {
        "colab": {
          "base_uri": "https://localhost:8080/"
        },
        "id": "UM4qRipFCGCV",
        "outputId": "26415195-992a-48e3-c557-4f8603405242"
      },
      "source": [
        "# Shape of the dataset\n",
        "df.shape"
      ],
      "execution_count": null,
      "outputs": [
        {
          "output_type": "execute_result",
          "data": {
            "text/plain": [
              "(150000, 6)"
            ]
          },
          "metadata": {},
          "execution_count": 3
        }
      ]
    },
    {
      "cell_type": "code",
      "metadata": {
        "colab": {
          "base_uri": "https://localhost:8080/"
        },
        "id": "0UmC-eDGCGEs",
        "outputId": "86e21518-049d-4a8b-db8e-e1f06d92ccf0"
      },
      "source": [
        "# Types of data\n",
        "df.info()"
      ],
      "execution_count": null,
      "outputs": [
        {
          "output_type": "stream",
          "name": "stdout",
          "text": [
            "<class 'pandas.core.frame.DataFrame'>\n",
            "RangeIndex: 150000 entries, 0 to 149999\n",
            "Data columns (total 6 columns):\n",
            " #   Column   Non-Null Count   Dtype  \n",
            "---  ------   --------------   -----  \n",
            " 0   Number   150000 non-null  int64  \n",
            " 1   City     150000 non-null  object \n",
            " 2   Gender   150000 non-null  object \n",
            " 3   Age      150000 non-null  int64  \n",
            " 4   Income   150000 non-null  float64\n",
            " 5   Illness  150000 non-null  object \n",
            "dtypes: float64(1), int64(2), object(3)\n",
            "memory usage: 6.9+ MB\n"
          ]
        }
      ]
    },
    {
      "cell_type": "code",
      "metadata": {
        "colab": {
          "base_uri": "https://localhost:8080/",
          "height": 295
        },
        "id": "kcVtO9yTCGHB",
        "outputId": "59d8f499-fd8c-4a9f-b7c8-78036c863793"
      },
      "source": [
        "# Summary of statistical characteristics\n",
        "df.describe()\n",
        "# Note: column \"Number\" is not important and can be removed"
      ],
      "execution_count": null,
      "outputs": [
        {
          "output_type": "execute_result",
          "data": {
            "text/html": [
              "<div>\n",
              "<style scoped>\n",
              "    .dataframe tbody tr th:only-of-type {\n",
              "        vertical-align: middle;\n",
              "    }\n",
              "\n",
              "    .dataframe tbody tr th {\n",
              "        vertical-align: top;\n",
              "    }\n",
              "\n",
              "    .dataframe thead th {\n",
              "        text-align: right;\n",
              "    }\n",
              "</style>\n",
              "<table border=\"1\" class=\"dataframe\">\n",
              "  <thead>\n",
              "    <tr style=\"text-align: right;\">\n",
              "      <th></th>\n",
              "      <th>Number</th>\n",
              "      <th>Age</th>\n",
              "      <th>Income</th>\n",
              "    </tr>\n",
              "  </thead>\n",
              "  <tbody>\n",
              "    <tr>\n",
              "      <th>count</th>\n",
              "      <td>150000.000000</td>\n",
              "      <td>150000.000000</td>\n",
              "      <td>150000.000000</td>\n",
              "    </tr>\n",
              "    <tr>\n",
              "      <th>mean</th>\n",
              "      <td>75000.500000</td>\n",
              "      <td>44.950200</td>\n",
              "      <td>91252.798273</td>\n",
              "    </tr>\n",
              "    <tr>\n",
              "      <th>std</th>\n",
              "      <td>43301.414527</td>\n",
              "      <td>11.572486</td>\n",
              "      <td>24989.500948</td>\n",
              "    </tr>\n",
              "    <tr>\n",
              "      <th>min</th>\n",
              "      <td>1.000000</td>\n",
              "      <td>25.000000</td>\n",
              "      <td>-654.000000</td>\n",
              "    </tr>\n",
              "    <tr>\n",
              "      <th>25%</th>\n",
              "      <td>37500.750000</td>\n",
              "      <td>35.000000</td>\n",
              "      <td>80867.750000</td>\n",
              "    </tr>\n",
              "    <tr>\n",
              "      <th>50%</th>\n",
              "      <td>75000.500000</td>\n",
              "      <td>45.000000</td>\n",
              "      <td>93655.000000</td>\n",
              "    </tr>\n",
              "    <tr>\n",
              "      <th>75%</th>\n",
              "      <td>112500.250000</td>\n",
              "      <td>55.000000</td>\n",
              "      <td>104519.000000</td>\n",
              "    </tr>\n",
              "    <tr>\n",
              "      <th>max</th>\n",
              "      <td>150000.000000</td>\n",
              "      <td>65.000000</td>\n",
              "      <td>177157.000000</td>\n",
              "    </tr>\n",
              "  </tbody>\n",
              "</table>\n",
              "</div>"
            ],
            "text/plain": [
              "              Number            Age         Income\n",
              "count  150000.000000  150000.000000  150000.000000\n",
              "mean    75000.500000      44.950200   91252.798273\n",
              "std     43301.414527      11.572486   24989.500948\n",
              "min         1.000000      25.000000    -654.000000\n",
              "25%     37500.750000      35.000000   80867.750000\n",
              "50%     75000.500000      45.000000   93655.000000\n",
              "75%    112500.250000      55.000000  104519.000000\n",
              "max    150000.000000      65.000000  177157.000000"
            ]
          },
          "metadata": {},
          "execution_count": 5
        }
      ]
    },
    {
      "cell_type": "code",
      "metadata": {
        "colab": {
          "base_uri": "https://localhost:8080/"
        },
        "id": "5333KacEDwVd",
        "outputId": "9ee98eab-a8ef-49c2-89f2-e49f7a1def66"
      },
      "source": [
        "# Number of healthy people and sick people\n",
        "df.Illness.value_counts()"
      ],
      "execution_count": null,
      "outputs": [
        {
          "output_type": "execute_result",
          "data": {
            "text/plain": [
              "No     137861\n",
              "Yes     12139\n",
              "Name: Illness, dtype: int64"
            ]
          },
          "metadata": {},
          "execution_count": 6
        }
      ]
    },
    {
      "cell_type": "markdown",
      "metadata": {
        "id": "SqZgT-z5GD6b"
      },
      "source": [
        "## Cleaning the table"
      ]
    },
    {
      "cell_type": "code",
      "metadata": {
        "colab": {
          "base_uri": "https://localhost:8080/"
        },
        "id": "N1XYCFa_EsSh",
        "outputId": "79bb8af2-3ce1-4d58-f2c5-50f7ff5f913e"
      },
      "source": [
        "# Check for missing and null values\n",
        "print(df.isnull().sum())"
      ],
      "execution_count": null,
      "outputs": [
        {
          "output_type": "stream",
          "name": "stdout",
          "text": [
            "Number     0\n",
            "City       0\n",
            "Gender     0\n",
            "Age        0\n",
            "Income     0\n",
            "Illness    0\n",
            "dtype: int64\n"
          ]
        }
      ]
    },
    {
      "cell_type": "code",
      "metadata": {
        "colab": {
          "base_uri": "https://localhost:8080/"
        },
        "id": "D6vFFpvhGSoB",
        "outputId": "08fdca36-b43e-4623-8196-1cab78a663e9"
      },
      "source": [
        "# Check for identical rows\n",
        "duplicate_rows_df = df[df.duplicated()]\n",
        "print(\"Number of identical rows:\", duplicate_rows_df.shape)"
      ],
      "execution_count": 4,
      "outputs": [
        {
          "output_type": "stream",
          "name": "stdout",
          "text": [
            "Number of identical rows: (0, 6)\n"
          ]
        }
      ]
    },
    {
      "cell_type": "code",
      "metadata": {
        "colab": {
          "base_uri": "https://localhost:8080/",
          "height": 206
        },
        "id": "cdR1iqElHaPW",
        "outputId": "2e431dc1-6ea8-4bbf-b391-6bc7e2f3b861"
      },
      "source": [
        "# Remove the column \"Number\"\n",
        "df = df.drop(\"Number\", axis=1)\n",
        "df.head(5)"
      ],
      "execution_count": 5,
      "outputs": [
        {
          "output_type": "execute_result",
          "data": {
            "text/html": [
              "<div>\n",
              "<style scoped>\n",
              "    .dataframe tbody tr th:only-of-type {\n",
              "        vertical-align: middle;\n",
              "    }\n",
              "\n",
              "    .dataframe tbody tr th {\n",
              "        vertical-align: top;\n",
              "    }\n",
              "\n",
              "    .dataframe thead th {\n",
              "        text-align: right;\n",
              "    }\n",
              "</style>\n",
              "<table border=\"1\" class=\"dataframe\">\n",
              "  <thead>\n",
              "    <tr style=\"text-align: right;\">\n",
              "      <th></th>\n",
              "      <th>City</th>\n",
              "      <th>Gender</th>\n",
              "      <th>Age</th>\n",
              "      <th>Income</th>\n",
              "      <th>Illness</th>\n",
              "    </tr>\n",
              "  </thead>\n",
              "  <tbody>\n",
              "    <tr>\n",
              "      <th>0</th>\n",
              "      <td>Dallas</td>\n",
              "      <td>Male</td>\n",
              "      <td>41</td>\n",
              "      <td>40367.0</td>\n",
              "      <td>No</td>\n",
              "    </tr>\n",
              "    <tr>\n",
              "      <th>1</th>\n",
              "      <td>Dallas</td>\n",
              "      <td>Male</td>\n",
              "      <td>54</td>\n",
              "      <td>45084.0</td>\n",
              "      <td>No</td>\n",
              "    </tr>\n",
              "    <tr>\n",
              "      <th>2</th>\n",
              "      <td>Dallas</td>\n",
              "      <td>Male</td>\n",
              "      <td>42</td>\n",
              "      <td>52483.0</td>\n",
              "      <td>No</td>\n",
              "    </tr>\n",
              "    <tr>\n",
              "      <th>3</th>\n",
              "      <td>Dallas</td>\n",
              "      <td>Male</td>\n",
              "      <td>40</td>\n",
              "      <td>40941.0</td>\n",
              "      <td>No</td>\n",
              "    </tr>\n",
              "    <tr>\n",
              "      <th>4</th>\n",
              "      <td>Dallas</td>\n",
              "      <td>Male</td>\n",
              "      <td>46</td>\n",
              "      <td>50289.0</td>\n",
              "      <td>No</td>\n",
              "    </tr>\n",
              "  </tbody>\n",
              "</table>\n",
              "</div>"
            ],
            "text/plain": [
              "     City Gender  Age   Income Illness\n",
              "0  Dallas   Male   41  40367.0      No\n",
              "1  Dallas   Male   54  45084.0      No\n",
              "2  Dallas   Male   42  52483.0      No\n",
              "3  Dallas   Male   40  40941.0      No\n",
              "4  Dallas   Male   46  50289.0      No"
            ]
          },
          "metadata": {},
          "execution_count": 5
        }
      ]
    },
    {
      "cell_type": "markdown",
      "metadata": {
        "id": "a_cPKbQzIVAE"
      },
      "source": [
        "## Getting familiar with the dataset through plots.\n",
        "\n",
        "### Check the distribution of each attributes compared to dependent variable `Illness`."
      ]
    },
    {
      "cell_type": "markdown",
      "metadata": {
        "id": "stMxsevmNn_S"
      },
      "source": [
        "Let's begin with the simple histogram that shows frequencies of healthy and sick people so we could see the ratio of those two classes."
      ]
    },
    {
      "cell_type": "code",
      "metadata": {
        "colab": {
          "base_uri": "https://localhost:8080/",
          "height": 301
        },
        "id": "U32gH4-KIdYa",
        "outputId": "f6453055-30a1-4ee5-d31c-79611562e3d4"
      },
      "source": [
        "fig = plt.figure()\n",
        "ax = fig.add_subplot(1,1,1)\n",
        "sns.countplot(x=\"Illness\", palette=\"rocket\", data=df)\n",
        "plt.xlabel('Sick')\n",
        "plt.title(\"Number of healthy and sick people\")\n",
        "plt.show()"
      ],
      "execution_count": 6,
      "outputs": [
        {
          "output_type": "display_data",
          "data": {
            "image/png": "[encoded data removed]",
            "text/plain": [
              "<Figure size 432x288 with 1 Axes>"
            ]
          },
          "metadata": {
            "needs_background": "light"
          }
        }
      ]
    },
    {
      "cell_type": "markdown",
      "metadata": {
        "id": "p7rvo1AGNxc-"
      },
      "source": [
        "Check if the attribute `gender` has effect on illness of a person."
      ]
    },
    {
      "cell_type": "code",
      "metadata": {
        "colab": {
          "base_uri": "https://localhost:8080/",
          "height": 301
        },
        "id": "wihChaxIIda7",
        "outputId": "b64cec13-fe24-4408-f8a1-9bb94c13c979"
      },
      "source": [
        "fig = plt.figure()\n",
        "ax = fig.add_subplot(1,1,1)\n",
        "sns.countplot(x=\"Gender\",hue='Illness', palette=\"rocket\", data=df)\n",
        "plt.xlabel('Gender')\n",
        "plt.title(\"Number of healthy and sick people for each gender\")\n",
        "plt.legend(loc='best',ncol=2)\n",
        "plt.show()"
      ],
      "execution_count": 7,
      "outputs": [
        {
          "output_type": "display_data",
          "data": {
            "image/png": "[encoded data removed]",
            "text/plain": [
              "<Figure size 432x288 with 1 Axes>"
            ]
          },
          "metadata": {
            "needs_background": "light"
          }
        }
      ]
    },
    {
      "cell_type": "markdown",
      "metadata": {
        "id": "NMqayJNZN5PS"
      },
      "source": [
        "***Conclusion***\n",
        "The ratio of healthy and sick people seems to be equal for each gender, so the attribute `gender` does not have big impact on `illness`."
      ]
    },
    {
      "cell_type": "markdown",
      "metadata": {
        "id": "S20VL78VNcKV"
      },
      "source": [
        "Check if `city` has an impact on illness of people."
      ]
    },
    {
      "cell_type": "code",
      "metadata": {
        "colab": {
          "base_uri": "https://localhost:8080/",
          "height": 394
        },
        "id": "uzsMYto6K64x",
        "outputId": "faface3a-ee55-46e2-8cbc-6fd1fd99ab72"
      },
      "source": [
        "fig = plt.figure(figsize=(12,6))\n",
        "ax = fig.add_subplot(1,1,1)\n",
        "sns.countplot(x=\"City\",hue='Illness', palette=\"rocket\", data=df)\n",
        "plt.legend(loc='best',ncol=2)\n",
        "plt.show()"
      ],
      "execution_count": null,
      "outputs": [
        {
          "output_type": "display_data",
          "data": {
            "image/png": "[encoded data removed]",
            "text/plain": [
              "<Figure size 864x432 with 1 Axes>"
            ]
          },
          "metadata": {
            "needs_background": "light"
          }
        }
      ]
    },
    {
      "cell_type": "markdown",
      "metadata": {
        "id": "reA732VuNhdh"
      },
      "source": [
        "***Conclusion***\n",
        "Same as before, attribute `City` does not have significant impact on `Illness`."
      ]
    },
    {
      "cell_type": "markdown",
      "metadata": {
        "id": "pZSB5yPYMRca"
      },
      "source": [
        "We could've logically conclude that attributes such as `Gender` and `City` won't have significant impact on `illness`. Attributes such as `Age` and `Income` should have more impact. Let's check the frequency plots for both of them."
      ]
    },
    {
      "cell_type": "code",
      "metadata": {
        "colab": {
          "base_uri": "https://localhost:8080/",
          "height": 284
        },
        "id": "B6UEMLArNUDj",
        "outputId": "90cb76df-8bd3-40bd-db88-2b4570660c9d"
      },
      "source": [
        "fig = plt.figure(figsize=(18,6))\n",
        "ax = fig.add_subplot(1,1,1)\n",
        "sns.countplot(x=\"Age\",hue='Illness', palette=\"rocket\", data=df)\n",
        "plt.xlabel('Age')\n",
        "plt.title(\"Number of healthy and sick people for each age\")\n",
        "plt.legend(loc='best',ncol=2)\n",
        "plt.show()"
      ],
      "execution_count": 8,
      "outputs": [
        {
          "output_type": "display_data",
          "data": {
            "image/png": "[encoded data removed]",
            "text/plain": [
              "<Figure size 1296x432 with 1 Axes>"
            ]
          },
          "metadata": {
            "needs_background": "light"
          }
        }
      ]
    },
    {
      "cell_type": "markdown",
      "metadata": {
        "id": "tZUk-EPgTaE_"
      },
      "source": [
        "***Conclusion***\n",
        "\n",
        "Somehow unexpected, attribute `Age` seem to not have any significant impact on `Illness`, since the ratio between healthy and sick people remains the same for all the different ages."
      ]
    },
    {
      "cell_type": "markdown",
      "metadata": {
        "id": "bvuMXm8mTj_e"
      },
      "source": [
        "Check the distribution for `Income` for healthy and sick people."
      ]
    },
    {
      "cell_type": "code",
      "metadata": {
        "colab": {
          "base_uri": "https://localhost:8080/",
          "height": 448
        },
        "id": "txq4bHUyUHzs",
        "outputId": "d607a31b-e4d2-40c3-a04a-e5d5ee5db3d1"
      },
      "source": [
        "plt.figure(figsize=(10,5))\n",
        "sns.distplot(df[df[\"Illness\"] == \"No\"][\"Income\"], color=\"y\")\n",
        "sns.distplot(df[df[\"Illness\"] == \"Yes\"][\"Income\"], color=\"g\")\n",
        "fig.legend(labels=['No', 'Yes'])\n",
        "plt.title(\"Distribution of income for healthy and sick people\")\n",
        "plt.show()"
      ],
      "execution_count": 9,
      "outputs": [
        {
          "output_type": "stream",
          "name": "stderr",
          "text": [
            "/usr/local/lib/python3.7/dist-packages/seaborn/distributions.py:2619: FutureWarning: `distplot` is a deprecated function and will be removed in a future version. Please adapt your code to use either `displot` (a figure-level function with similar flexibility) or `histplot` (an axes-level function for histograms).\n",
            "  warnings.warn(msg, FutureWarning)\n",
            "/usr/local/lib/python3.7/dist-packages/seaborn/distributions.py:2619: FutureWarning: `distplot` is a deprecated function and will be removed in a future version. Please adapt your code to use either `displot` (a figure-level function with similar flexibility) or `histplot` (an axes-level function for histograms).\n",
            "  warnings.warn(msg, FutureWarning)\n"
          ]
        },
        {
          "output_type": "display_data",
          "data": {
            "image/png": "[encoded data removed]",
            "text/plain": [
              "<Figure size 720x360 with 1 Axes>"
            ]
          },
          "metadata": {
            "needs_background": "light"
          }
        }
      ]
    },
    {
      "cell_type": "markdown",
      "metadata": {
        "id": "-J8zhyaCUfyU"
      },
      "source": [
        "***Conclusion***\n",
        "\n",
        "Graphs are overlapping each other, so another unexpected conclusion is that `Income` does not seem to have any significant impact on `Illness`."
      ]
    },
    {
      "cell_type": "code",
      "metadata": {
        "colab": {
          "base_uri": "https://localhost:8080/",
          "height": 203
        },
        "id": "P0iHSPitWBjH",
        "outputId": "a7139a3a-f7df-4d65-b472-55c8a836bc6c"
      },
      "source": [
        "df.head(5)"
      ],
      "execution_count": null,
      "outputs": [
        {
          "output_type": "execute_result",
          "data": {
            "text/html": [
              "<div>\n",
              "<style scoped>\n",
              "    .dataframe tbody tr th:only-of-type {\n",
              "        vertical-align: middle;\n",
              "    }\n",
              "\n",
              "    .dataframe tbody tr th {\n",
              "        vertical-align: top;\n",
              "    }\n",
              "\n",
              "    .dataframe thead th {\n",
              "        text-align: right;\n",
              "    }\n",
              "</style>\n",
              "<table border=\"1\" class=\"dataframe\">\n",
              "  <thead>\n",
              "    <tr style=\"text-align: right;\">\n",
              "      <th></th>\n",
              "      <th>City</th>\n",
              "      <th>Gender</th>\n",
              "      <th>Age</th>\n",
              "      <th>Income</th>\n",
              "      <th>Illness</th>\n",
              "    </tr>\n",
              "  </thead>\n",
              "  <tbody>\n",
              "    <tr>\n",
              "      <th>0</th>\n",
              "      <td>Dallas</td>\n",
              "      <td>Male</td>\n",
              "      <td>41</td>\n",
              "      <td>40367.0</td>\n",
              "      <td>No</td>\n",
              "    </tr>\n",
              "    <tr>\n",
              "      <th>1</th>\n",
              "      <td>Dallas</td>\n",
              "      <td>Male</td>\n",
              "      <td>54</td>\n",
              "      <td>45084.0</td>\n",
              "      <td>No</td>\n",
              "    </tr>\n",
              "    <tr>\n",
              "      <th>2</th>\n",
              "      <td>Dallas</td>\n",
              "      <td>Male</td>\n",
              "      <td>42</td>\n",
              "      <td>52483.0</td>\n",
              "      <td>No</td>\n",
              "    </tr>\n",
              "    <tr>\n",
              "      <th>3</th>\n",
              "      <td>Dallas</td>\n",
              "      <td>Male</td>\n",
              "      <td>40</td>\n",
              "      <td>40941.0</td>\n",
              "      <td>No</td>\n",
              "    </tr>\n",
              "    <tr>\n",
              "      <th>4</th>\n",
              "      <td>Dallas</td>\n",
              "      <td>Male</td>\n",
              "      <td>46</td>\n",
              "      <td>50289.0</td>\n",
              "      <td>No</td>\n",
              "    </tr>\n",
              "  </tbody>\n",
              "</table>\n",
              "</div>"
            ],
            "text/plain": [
              "     City Gender  Age   Income Illness\n",
              "0  Dallas   Male   41  40367.0      No\n",
              "1  Dallas   Male   54  45084.0      No\n",
              "2  Dallas   Male   42  52483.0      No\n",
              "3  Dallas   Male   40  40941.0      No\n",
              "4  Dallas   Male   46  50289.0      No"
            ]
          },
          "metadata": {},
          "execution_count": 15
        }
      ]
    },
    {
      "cell_type": "markdown",
      "metadata": {
        "id": "cnnQivEeYUyN"
      },
      "source": [
        "## Check for the outliers\n",
        "\n",
        "If we want to get the best ML prediction model possible, we should remove outliers from the dataset. We can check if they exist by graphing a box plot."
      ]
    },
    {
      "cell_type": "code",
      "metadata": {
        "colab": {
          "base_uri": "https://localhost:8080/",
          "height": 303
        },
        "id": "UiWA8sFGbIMc",
        "outputId": "ac19182f-054b-4973-85ce-de66fc626221"
      },
      "source": [
        "sns.boxplot(x=df['Age'])"
      ],
      "execution_count": 10,
      "outputs": [
        {
          "output_type": "execute_result",
          "data": {
            "text/plain": [
              "<matplotlib.axes._subplots.AxesSubplot at 0x7f78ad17ad50>"
            ]
          },
          "metadata": {},
          "execution_count": 10
        },
        {
          "output_type": "display_data",
          "data": {
            "image/png": "[encoded data removed]",
            "text/plain": [
              "<Figure size 432x288 with 1 Axes>"
            ]
          },
          "metadata": {
            "needs_background": "light"
          }
        }
      ]
    },
    {
      "cell_type": "code",
      "metadata": {
        "colab": {
          "base_uri": "https://localhost:8080/",
          "height": 303
        },
        "id": "3eJBu00hY7wc",
        "outputId": "ffce1064-c167-473d-abdc-f3b47f549181"
      },
      "source": [
        "sns.boxplot(x=df['Income'])"
      ],
      "execution_count": 11,
      "outputs": [
        {
          "output_type": "execute_result",
          "data": {
            "text/plain": [
              "<matplotlib.axes._subplots.AxesSubplot at 0x7f78a1db1dd0>"
            ]
          },
          "metadata": {},
          "execution_count": 11
        },
        {
          "output_type": "display_data",
          "data": {
            "image/png": "[encoded data removed]",
            "text/plain": [
              "<Figure size 432x288 with 1 Axes>"
            ]
          },
          "metadata": {
            "needs_background": "light"
          }
        }
      ]
    },
    {
      "cell_type": "markdown",
      "metadata": {
        "id": "ygUrC29bZZkB"
      },
      "source": [
        "There are outliers in `Income` category. There are even some non-sense income values such as negativne incomes. We can remove those by applying the IQR score technique."
      ]
    },
    {
      "cell_type": "code",
      "metadata": {
        "colab": {
          "base_uri": "https://localhost:8080/"
        },
        "id": "zXqUXiFQZUPy",
        "outputId": "b5de7135-ef93-454c-c9f3-f97e3ad4f170"
      },
      "source": [
        "Q1 = df.quantile(0.25)\n",
        "Q3 = df.quantile(0.75)\n",
        "IQR = Q3 - Q1\n",
        "print(IQR)"
      ],
      "execution_count": 12,
      "outputs": [
        {
          "output_type": "stream",
          "name": "stdout",
          "text": [
            "Age          20.00\n",
            "Income    23651.25\n",
            "dtype: float64\n"
          ]
        }
      ]
    },
    {
      "cell_type": "code",
      "metadata": {
        "colab": {
          "base_uri": "https://localhost:8080/"
        },
        "id": "6oKwq83LY7yu",
        "outputId": "68d4f304-11e2-4144-a840-bac766d94cc4"
      },
      "source": [
        "df = df[~((df < (Q1 - 1.5 * IQR)) |(df > (Q3 + 1.5 * IQR))).any(axis=1)]\n",
        "df.shape"
      ],
      "execution_count": 13,
      "outputs": [
        {
          "output_type": "execute_result",
          "data": {
            "text/plain": [
              "(135217, 5)"
            ]
          },
          "metadata": {},
          "execution_count": 13
        }
      ]
    },
    {
      "cell_type": "markdown",
      "metadata": {
        "id": "zf55mVWibmcY"
      },
      "source": [
        "As we can see, we cleaned the dataset by removing something around 15 000 outliers. It's possible for the dataset to contain some more outliers, but the number of those is not significant comparing to the number of outliers we've just removed.\n",
        "\n",
        "Let's check the box plot for the `Income` once more."
      ]
    },
    {
      "cell_type": "code",
      "metadata": {
        "colab": {
          "base_uri": "https://localhost:8080/",
          "height": 303
        },
        "id": "6PsLcVEoY71B",
        "outputId": "1463ef2f-8c8e-4972-e3e0-583d09f40a64"
      },
      "source": [
        "sns.boxplot(x=df['Income'])"
      ],
      "execution_count": 14,
      "outputs": [
        {
          "output_type": "execute_result",
          "data": {
            "text/plain": [
              "<matplotlib.axes._subplots.AxesSubplot at 0x7f78ad4b3210>"
            ]
          },
          "metadata": {},
          "execution_count": 14
        },
        {
          "output_type": "display_data",
          "data": {
            "image/png": "[encoded data removed]",
            "text/plain": [
              "<Figure size 432x288 with 1 Axes>"
            ]
          },
          "metadata": {
            "needs_background": "light"
          }
        }
      ]
    },
    {
      "cell_type": "markdown",
      "metadata": {
        "id": "ecZzRmApcPun"
      },
      "source": [
        "As we can see, we've removed the majority of the outliers."
      ]
    },
    {
      "cell_type": "markdown",
      "metadata": {
        "id": "e-HFAOtka0w4"
      },
      "source": [
        "## Processing data (one-hot encoding)\n",
        "\n",
        "Before calculating the correlation matrix, we need to numerate all of the data. There are some categorical data that needs to be one-hot encoded, such as `Gender` and `City`."
      ]
    },
    {
      "cell_type": "markdown",
      "metadata": {
        "id": "MC1P2pthjCvi"
      },
      "source": [
        "### One-hot encoding"
      ]
    },
    {
      "cell_type": "code",
      "metadata": {
        "colab": {
          "base_uri": "https://localhost:8080/",
          "height": 206
        },
        "id": "Q6m2uIVQhZ3l",
        "outputId": "79cd5333-a60a-4c21-9f4b-5f282f937cb6"
      },
      "source": [
        "df.head()"
      ],
      "execution_count": 15,
      "outputs": [
        {
          "output_type": "execute_result",
          "data": {
            "text/html": [
              "<div>\n",
              "<style scoped>\n",
              "    .dataframe tbody tr th:only-of-type {\n",
              "        vertical-align: middle;\n",
              "    }\n",
              "\n",
              "    .dataframe tbody tr th {\n",
              "        vertical-align: top;\n",
              "    }\n",
              "\n",
              "    .dataframe thead th {\n",
              "        text-align: right;\n",
              "    }\n",
              "</style>\n",
              "<table border=\"1\" class=\"dataframe\">\n",
              "  <thead>\n",
              "    <tr style=\"text-align: right;\">\n",
              "      <th></th>\n",
              "      <th>City</th>\n",
              "      <th>Gender</th>\n",
              "      <th>Age</th>\n",
              "      <th>Income</th>\n",
              "      <th>Illness</th>\n",
              "    </tr>\n",
              "  </thead>\n",
              "  <tbody>\n",
              "    <tr>\n",
              "      <th>2</th>\n",
              "      <td>Dallas</td>\n",
              "      <td>Male</td>\n",
              "      <td>42</td>\n",
              "      <td>52483.0</td>\n",
              "      <td>No</td>\n",
              "    </tr>\n",
              "    <tr>\n",
              "      <th>4</th>\n",
              "      <td>Dallas</td>\n",
              "      <td>Male</td>\n",
              "      <td>46</td>\n",
              "      <td>50289.0</td>\n",
              "      <td>No</td>\n",
              "    </tr>\n",
              "    <tr>\n",
              "      <th>5</th>\n",
              "      <td>Dallas</td>\n",
              "      <td>Female</td>\n",
              "      <td>36</td>\n",
              "      <td>50786.0</td>\n",
              "      <td>No</td>\n",
              "    </tr>\n",
              "    <tr>\n",
              "      <th>8</th>\n",
              "      <td>Dallas</td>\n",
              "      <td>Male</td>\n",
              "      <td>51</td>\n",
              "      <td>68667.0</td>\n",
              "      <td>No</td>\n",
              "    </tr>\n",
              "    <tr>\n",
              "      <th>9</th>\n",
              "      <td>Dallas</td>\n",
              "      <td>Female</td>\n",
              "      <td>30</td>\n",
              "      <td>50082.0</td>\n",
              "      <td>No</td>\n",
              "    </tr>\n",
              "  </tbody>\n",
              "</table>\n",
              "</div>"
            ],
            "text/plain": [
              "     City  Gender  Age   Income Illness\n",
              "2  Dallas    Male   42  52483.0      No\n",
              "4  Dallas    Male   46  50289.0      No\n",
              "5  Dallas  Female   36  50786.0      No\n",
              "8  Dallas    Male   51  68667.0      No\n",
              "9  Dallas  Female   30  50082.0      No"
            ]
          },
          "metadata": {},
          "execution_count": 15
        }
      ]
    },
    {
      "cell_type": "code",
      "metadata": {
        "colab": {
          "base_uri": "https://localhost:8080/",
          "height": 261
        },
        "id": "1P_uTdCji0mm",
        "outputId": "066990fd-21b4-4466-f244-538c61916f49"
      },
      "source": [
        "data_one_hot = pd.get_dummies(df)\n",
        "data_one_hot.head()"
      ],
      "execution_count": 16,
      "outputs": [
        {
          "output_type": "execute_result",
          "data": {
            "text/html": [
              "<div>\n",
              "<style scoped>\n",
              "    .dataframe tbody tr th:only-of-type {\n",
              "        vertical-align: middle;\n",
              "    }\n",
              "\n",
              "    .dataframe tbody tr th {\n",
              "        vertical-align: top;\n",
              "    }\n",
              "\n",
              "    .dataframe thead th {\n",
              "        text-align: right;\n",
              "    }\n",
              "</style>\n",
              "<table border=\"1\" class=\"dataframe\">\n",
              "  <thead>\n",
              "    <tr style=\"text-align: right;\">\n",
              "      <th></th>\n",
              "      <th>Age</th>\n",
              "      <th>Income</th>\n",
              "      <th>City_Austin</th>\n",
              "      <th>City_Boston</th>\n",
              "      <th>City_Dallas</th>\n",
              "      <th>City_Los Angeles</th>\n",
              "      <th>City_Mountain View</th>\n",
              "      <th>City_New York City</th>\n",
              "      <th>City_San Diego</th>\n",
              "      <th>City_Washington D.C.</th>\n",
              "      <th>Gender_Female</th>\n",
              "      <th>Gender_Male</th>\n",
              "      <th>Illness_No</th>\n",
              "      <th>Illness_Yes</th>\n",
              "    </tr>\n",
              "  </thead>\n",
              "  <tbody>\n",
              "    <tr>\n",
              "      <th>2</th>\n",
              "      <td>42</td>\n",
              "      <td>52483.0</td>\n",
              "      <td>0</td>\n",
              "      <td>0</td>\n",
              "      <td>1</td>\n",
              "      <td>0</td>\n",
              "      <td>0</td>\n",
              "      <td>0</td>\n",
              "      <td>0</td>\n",
              "      <td>0</td>\n",
              "      <td>0</td>\n",
              "      <td>1</td>\n",
              "      <td>1</td>\n",
              "      <td>0</td>\n",
              "    </tr>\n",
              "    <tr>\n",
              "      <th>4</th>\n",
              "      <td>46</td>\n",
              "      <td>50289.0</td>\n",
              "      <td>0</td>\n",
              "      <td>0</td>\n",
              "      <td>1</td>\n",
              "      <td>0</td>\n",
              "      <td>0</td>\n",
              "      <td>0</td>\n",
              "      <td>0</td>\n",
              "      <td>0</td>\n",
              "      <td>0</td>\n",
              "      <td>1</td>\n",
              "      <td>1</td>\n",
              "      <td>0</td>\n",
              "    </tr>\n",
              "    <tr>\n",
              "      <th>5</th>\n",
              "      <td>36</td>\n",
              "      <td>50786.0</td>\n",
              "      <td>0</td>\n",
              "      <td>0</td>\n",
              "      <td>1</td>\n",
              "      <td>0</td>\n",
              "      <td>0</td>\n",
              "      <td>0</td>\n",
              "      <td>0</td>\n",
              "      <td>0</td>\n",
              "      <td>1</td>\n",
              "      <td>0</td>\n",
              "      <td>1</td>\n",
              "      <td>0</td>\n",
              "    </tr>\n",
              "    <tr>\n",
              "      <th>8</th>\n",
              "      <td>51</td>\n",
              "      <td>68667.0</td>\n",
              "      <td>0</td>\n",
              "      <td>0</td>\n",
              "      <td>1</td>\n",
              "      <td>0</td>\n",
              "      <td>0</td>\n",
              "      <td>0</td>\n",
              "      <td>0</td>\n",
              "      <td>0</td>\n",
              "      <td>0</td>\n",
              "      <td>1</td>\n",
              "      <td>1</td>\n",
              "      <td>0</td>\n",
              "    </tr>\n",
              "    <tr>\n",
              "      <th>9</th>\n",
              "      <td>30</td>\n",
              "      <td>50082.0</td>\n",
              "      <td>0</td>\n",
              "      <td>0</td>\n",
              "      <td>1</td>\n",
              "      <td>0</td>\n",
              "      <td>0</td>\n",
              "      <td>0</td>\n",
              "      <td>0</td>\n",
              "      <td>0</td>\n",
              "      <td>1</td>\n",
              "      <td>0</td>\n",
              "      <td>1</td>\n",
              "      <td>0</td>\n",
              "    </tr>\n",
              "  </tbody>\n",
              "</table>\n",
              "</div>"
            ],
            "text/plain": [
              "   Age   Income  City_Austin  ...  Gender_Male  Illness_No  Illness_Yes\n",
              "2   42  52483.0            0  ...            1           1            0\n",
              "4   46  50289.0            0  ...            1           1            0\n",
              "5   36  50786.0            0  ...            0           1            0\n",
              "8   51  68667.0            0  ...            1           1            0\n",
              "9   30  50082.0            0  ...            0           1            0\n",
              "\n",
              "[5 rows x 14 columns]"
            ]
          },
          "metadata": {},
          "execution_count": 16
        }
      ]
    },
    {
      "cell_type": "markdown",
      "metadata": {
        "id": "oNR2DwF6UyYV"
      },
      "source": [
        "### Correlation between independent variables (attributes)\n",
        "\n",
        "Check if there is a significant correlation between attributes. The most practical way to do this is to use function `corr()` that produces correlation matrix. We can visualize this matrix using `heatmap` function."
      ]
    },
    {
      "cell_type": "code",
      "metadata": {
        "colab": {
          "base_uri": "https://localhost:8080/",
          "height": 468
        },
        "id": "hVIy2UrKVW5f",
        "outputId": "0f206f25-beb1-4506-b415-9b0af12cb376"
      },
      "source": [
        "plt.figure(figsize=(20,10))\n",
        "c = data_one_hot.corr()\n",
        "sns.heatmap(c, annot=True, cmap='viridis')"
      ],
      "execution_count": 17,
      "outputs": [
        {
          "output_type": "execute_result",
          "data": {
            "text/plain": [
              "<matplotlib.axes._subplots.AxesSubplot at 0x7f78a0f15190>"
            ]
          },
          "metadata": {},
          "execution_count": 17
        },
        {
          "output_type": "display_data",
          "data": {
            "image/png": "[encoded data removed]",
            "text/plain": [
              "<Figure size 1440x720 with 2 Axes>"
            ]
          },
          "metadata": {
            "needs_background": "light"
          }
        }
      ]
    },
    {
      "cell_type": "markdown",
      "metadata": {
        "id": "wg_H7-_uYNGz"
      },
      "source": [
        "We don't need to pay attention to the correlations between the same datatype (such as correlations between different cities), since such matrix is a product of one-hot encoding of the data.\n",
        "\n",
        "The only somewhat significant correlations are positive correlation between the city `Mountain View` and `Income`, and positive correlation between the city `Dallas` and `Income`. Since these are not that high, it is not neccessary to remove them from the dataset.\n",
        "\n",
        "The most important result from the correlation matrix is the fact that the dependent variable `Illness` is not correlated to either of the attributes (almost all of the correlations are equal to zero), meaning neither of the attributes have significant impact on whether the person is sick or not. We've made the same conclusion once we've plotted histograms earlier.\n",
        "\n",
        "***Conclusion***\n",
        "\n",
        "Neither of the attributes are significant in `Illness` prediction. However, the correlation matrix only shows how each of those attributes  seperately correlates to the output, but not the combination of the attributes."
      ]
    },
    {
      "cell_type": "markdown",
      "metadata": {
        "id": "h4WFIPtJYZuH"
      },
      "source": [
        "### The question remains: How do we make a good classification model when we do not have any correlations? There seems to be no linear connection between the independent variables to the dependent variable. We might spot some non-visible connection with ML models such as random forests and deep neural networks."
      ]
    },
    {
      "cell_type": "markdown",
      "metadata": {
        "id": "QGFyc-owdDAO"
      },
      "source": [
        "## Processing data no.2 (normalization, splitting the dataset into training and testing part)"
      ]
    },
    {
      "cell_type": "markdown",
      "metadata": {
        "id": "uOR9x8WMZa_A"
      },
      "source": [
        "We continue with the dataset df which is not one-hot encoded and normalized. We want to normalize the data since it has been shown that ML models such as neural networks perform better that way."
      ]
    },
    {
      "cell_type": "code",
      "metadata": {
        "colab": {
          "base_uri": "https://localhost:8080/",
          "height": 206
        },
        "id": "qnt4h-osdKnr",
        "outputId": "991ef8a8-9220-4c71-e4a9-b15af40011c6"
      },
      "source": [
        "import pandas as pd\n",
        "import matplotlib.pyplot as plt\n",
        "import tensorflow as tf\n",
        "df.head(5)"
      ],
      "execution_count": 18,
      "outputs": [
        {
          "output_type": "execute_result",
          "data": {
            "text/html": [
              "<div>\n",
              "<style scoped>\n",
              "    .dataframe tbody tr th:only-of-type {\n",
              "        vertical-align: middle;\n",
              "    }\n",
              "\n",
              "    .dataframe tbody tr th {\n",
              "        vertical-align: top;\n",
              "    }\n",
              "\n",
              "    .dataframe thead th {\n",
              "        text-align: right;\n",
              "    }\n",
              "</style>\n",
              "<table border=\"1\" class=\"dataframe\">\n",
              "  <thead>\n",
              "    <tr style=\"text-align: right;\">\n",
              "      <th></th>\n",
              "      <th>City</th>\n",
              "      <th>Gender</th>\n",
              "      <th>Age</th>\n",
              "      <th>Income</th>\n",
              "      <th>Illness</th>\n",
              "    </tr>\n",
              "  </thead>\n",
              "  <tbody>\n",
              "    <tr>\n",
              "      <th>2</th>\n",
              "      <td>Dallas</td>\n",
              "      <td>Male</td>\n",
              "      <td>42</td>\n",
              "      <td>52483.0</td>\n",
              "      <td>No</td>\n",
              "    </tr>\n",
              "    <tr>\n",
              "      <th>4</th>\n",
              "      <td>Dallas</td>\n",
              "      <td>Male</td>\n",
              "      <td>46</td>\n",
              "      <td>50289.0</td>\n",
              "      <td>No</td>\n",
              "    </tr>\n",
              "    <tr>\n",
              "      <th>5</th>\n",
              "      <td>Dallas</td>\n",
              "      <td>Female</td>\n",
              "      <td>36</td>\n",
              "      <td>50786.0</td>\n",
              "      <td>No</td>\n",
              "    </tr>\n",
              "    <tr>\n",
              "      <th>8</th>\n",
              "      <td>Dallas</td>\n",
              "      <td>Male</td>\n",
              "      <td>51</td>\n",
              "      <td>68667.0</td>\n",
              "      <td>No</td>\n",
              "    </tr>\n",
              "    <tr>\n",
              "      <th>9</th>\n",
              "      <td>Dallas</td>\n",
              "      <td>Female</td>\n",
              "      <td>30</td>\n",
              "      <td>50082.0</td>\n",
              "      <td>No</td>\n",
              "    </tr>\n",
              "  </tbody>\n",
              "</table>\n",
              "</div>"
            ],
            "text/plain": [
              "     City  Gender  Age   Income Illness\n",
              "2  Dallas    Male   42  52483.0      No\n",
              "4  Dallas    Male   46  50289.0      No\n",
              "5  Dallas  Female   36  50786.0      No\n",
              "8  Dallas    Male   51  68667.0      No\n",
              "9  Dallas  Female   30  50082.0      No"
            ]
          },
          "metadata": {},
          "execution_count": 18
        }
      ]
    },
    {
      "cell_type": "code",
      "metadata": {
        "id": "R_E1ZASNdKqi"
      },
      "source": [
        "from sklearn.compose import make_column_transformer\n",
        "from sklearn.preprocessing import MinMaxScaler, OneHotEncoder\n",
        "from sklearn.model_selection import train_test_split\n",
        "\n",
        "# Column transformer for X\n",
        "\n",
        "ct = make_column_transformer(\n",
        "    (MinMaxScaler(), [\"Age\", \"Income\"]), # Normalization\n",
        "    (OneHotEncoder(handle_unknown=\"ignore\"), [\"City\", \"Gender\"]) # One-hot encoding\n",
        ")\n",
        "\n",
        "# X & y\n",
        "X = df.drop(\"Illness\", axis=1)\n",
        "y = df[\"Illness\"]\n",
        "\n",
        "# Sets for training and testing\n",
        "X_train, X_test, y_train, y_test = train_test_split(X, y, test_size=0.2, random_state=42)\n",
        "\n",
        "# Fitting the column transformer to the training set\n",
        "ct.fit(X_train)\n",
        "\n",
        "# Transformation \n",
        "X_train_normal = ct.transform(X_train)\n",
        "X_test_normal = ct.transform(X_test)"
      ],
      "execution_count": 20,
      "outputs": []
    },
    {
      "cell_type": "code",
      "metadata": {
        "id": "48ICrnouih_v"
      },
      "source": [
        "y_train = y_train.str.replace(\"No\", \"0\")\n",
        "y_train = y_train.str.replace(\"Yes\", \"1\")"
      ],
      "execution_count": 22,
      "outputs": []
    },
    {
      "cell_type": "code",
      "metadata": {
        "id": "6gyAOE3xl0BT"
      },
      "source": [
        "y_test = y_test.str.replace(\"No\", \"0\")\n",
        "y_test = y_test.str.replace(\"Yes\", \"1\")"
      ],
      "execution_count": 23,
      "outputs": []
    },
    {
      "cell_type": "code",
      "metadata": {
        "id": "1mFrcNGfg914"
      },
      "source": [
        "y_train = pd.to_numeric(y_train)\n",
        "y_test = pd.to_numeric(y_test)"
      ],
      "execution_count": 24,
      "outputs": []
    },
    {
      "cell_type": "markdown",
      "metadata": {
        "id": "FXSHvJ4XWeQG"
      },
      "source": [
        "# Search for the best ML model"
      ]
    },
    {
      "cell_type": "markdown",
      "metadata": {
        "id": "PlnoSmOvYN0u"
      },
      "source": [
        "## Naive Bayes\n",
        "Let's start with the Naive Bayes method. This method assumes that the input variables are independent between each other. Since the correlation matrix truly showed that there aren't any significant relationships between them, this method might perform good."
      ]
    },
    {
      "cell_type": "code",
      "metadata": {
        "colab": {
          "base_uri": "https://localhost:8080/"
        },
        "id": "W2KAxV8GnUi1",
        "outputId": "0a5297c8-e10c-4285-f260-64552e1fd29e"
      },
      "source": [
        "from sklearn.naive_bayes import MultinomialNB\n",
        "\n",
        "mnb = MultinomialNB().fit(X_train_normal, y_train)\n",
        "print(\"score on test: \" + str(mnb.score(X_test_normal, y_test)))\n",
        "print(\"score on train: \"+ str(mnb.score(X_train_normal, y_train)))"
      ],
      "execution_count": 25,
      "outputs": [
        {
          "output_type": "stream",
          "name": "stdout",
          "text": [
            "score on test: 0.9182073657742937\n",
            "score on train: 0.9191665202961922\n"
          ]
        }
      ]
    },
    {
      "cell_type": "markdown",
      "metadata": {
        "id": "u4x5Y-teoAFG"
      },
      "source": [
        "Results on the training dataset and the testing dataset are almost indentical. The classification score is ~92%, but is that a good score as it seems?\n",
        "\n",
        "Let's remind ourselves the ratio between healthy and sick people.\n"
      ]
    },
    {
      "cell_type": "code",
      "metadata": {
        "colab": {
          "base_uri": "https://localhost:8080/"
        },
        "id": "7ajpk5xvpVIC",
        "outputId": "a59f3c1a-b603-460b-a957-961d289600d0"
      },
      "source": [
        "df.Illness.value_counts()"
      ],
      "execution_count": null,
      "outputs": [
        {
          "output_type": "execute_result",
          "data": {
            "text/plain": [
              "No     124261\n",
              "Yes     10956\n",
              "Name: Illness, dtype: int64"
            ]
          },
          "metadata": {},
          "execution_count": 76
        }
      ]
    },
    {
      "cell_type": "code",
      "metadata": {
        "colab": {
          "base_uri": "https://localhost:8080/"
        },
        "id": "9m2kprxkpe_x",
        "outputId": "c1547746-1456-4d02-cdef-e4d8d3e37d29"
      },
      "source": [
        "(124261)/(124261+10956)"
      ],
      "execution_count": null,
      "outputs": [
        {
          "output_type": "execute_result",
          "data": {
            "text/plain": [
              "0.9189746851357448"
            ]
          },
          "metadata": {},
          "execution_count": 69
        }
      ]
    },
    {
      "cell_type": "markdown",
      "metadata": {
        "id": "IVPvQWbWvhZy"
      },
      "source": [
        "Check the ration in the training dataset."
      ]
    },
    {
      "cell_type": "code",
      "metadata": {
        "colab": {
          "base_uri": "https://localhost:8080/"
        },
        "id": "kVArbb7Tvc9L",
        "outputId": "df9e192f-e9db-48a3-a06f-1cfd501c7616"
      },
      "source": [
        "y_test.value_counts()"
      ],
      "execution_count": null,
      "outputs": [
        {
          "output_type": "execute_result",
          "data": {
            "text/plain": [
              "0    24832\n",
              "1     2212\n",
              "Name: Illness, dtype: int64"
            ]
          },
          "metadata": {},
          "execution_count": 77
        }
      ]
    },
    {
      "cell_type": "code",
      "metadata": {
        "colab": {
          "base_uri": "https://localhost:8080/"
        },
        "id": "bBPU12tAvmBD",
        "outputId": "211b9dc6-5cdb-49ee-d394-6cdf252653d3"
      },
      "source": [
        "(24832)/(24832+2212)"
      ],
      "execution_count": null,
      "outputs": [
        {
          "output_type": "execute_result",
          "data": {
            "text/plain": [
              "0.9182073657742937"
            ]
          },
          "metadata": {},
          "execution_count": 78
        }
      ]
    },
    {
      "cell_type": "markdown",
      "metadata": {
        "id": "GhSv1wIjpmCo"
      },
      "source": [
        "So, the training dataset has something around 91.8% of healthy people. If we made an ML model that just outputs the value \"0\" (which stands for the score of a healthy person), we could get the accuracy of 91.8%. We can conclude that the Naive Bayes model is not a good prediction model. The question remains if the \"accuracy\" is the best metric for the success of the model.\n",
        "\n",
        "Since we are classifying if the person is sick or not, we want a metric that will tell us how many positive cases (sick people) are properly indetified. Such metric is known as Recall.\n",
        "\n",
        "The formula for Recall is: TP/(TP+FN), where TP stands for the number of correctly classified positive cases and FN stands for the number of wrongly classified negative cases (number of sick people that we classified as healthy).\n",
        "\n",
        "If we want to immitate the model that only outputs the value \"0\" (classifies each person as healthy, no matter the input), it will have accuracy of 91.8%, but it will have recall equal to zero, which indicates that we have a bad prediction model.\n",
        "\n",
        "Therefore, we should check both the accuracy and the recall for each of the future ML models we want to test."
      ]
    },
    {
      "cell_type": "code",
      "metadata": {
        "id": "xPzNNus0ToHj"
      },
      "source": [
        "y_pred = mnb.predict(X_test_normal)"
      ],
      "execution_count": 26,
      "outputs": []
    },
    {
      "cell_type": "code",
      "metadata": {
        "colab": {
          "base_uri": "https://localhost:8080/"
        },
        "id": "xDyVxOHfUpcM",
        "outputId": "73c07e28-4957-457d-9659-4db2c8d495ce"
      },
      "source": [
        "from sklearn.metrics import recall_score\n",
        "print('Recall: %.3f' % recall_score(y_test, y_pred))"
      ],
      "execution_count": 27,
      "outputs": [
        {
          "output_type": "stream",
          "name": "stdout",
          "text": [
            "Recall: 0.000\n"
          ]
        }
      ]
    },
    {
      "cell_type": "markdown",
      "metadata": {
        "id": "donkoa61c4aa"
      },
      "source": [
        "Recall of Naive Bayes is equal to 0, therefore, it is not able to successfully clasify sick people."
      ]
    },
    {
      "cell_type": "markdown",
      "metadata": {
        "id": "PEptkyEWqbUj"
      },
      "source": [
        "## K nearest neighbours algorithm"
      ]
    },
    {
      "cell_type": "code",
      "metadata": {
        "colab": {
          "base_uri": "https://localhost:8080/"
        },
        "id": "F1dujqE-rt9M",
        "outputId": "977f30ad-5953-459b-8d8d-651a679ab203"
      },
      "source": [
        "from sklearn.neighbors import KNeighborsClassifier\n",
        "knn = KNeighborsClassifier(algorithm = 'brute', n_jobs=-1)\n",
        "knn.fit(X_train_normal, y_train)\n",
        "print(\"train shape: \" + str(X_train_normal.shape))\n",
        "print(\"score on test: \" + str(knn.score(X_test_normal, y_test)))\n",
        "print(\"score on train: \"+ str(knn.score(X_train_normal, y_train)))"
      ],
      "execution_count": 28,
      "outputs": [
        {
          "output_type": "stream",
          "name": "stdout",
          "text": [
            "train shape: (108173, 12)\n",
            "score on test: 0.9137331755657447\n",
            "score on train: 0.9205254545958789\n"
          ]
        }
      ]
    },
    {
      "cell_type": "markdown",
      "metadata": {
        "id": "xWBJCzJ2tgU3"
      },
      "source": [
        "Accuracy: 91.37%.\n",
        "\n",
        "Check for the recall score."
      ]
    },
    {
      "cell_type": "code",
      "metadata": {
        "id": "Z2FIDQIyVHaz"
      },
      "source": [
        "y_pred = knn.predict(X_test_normal)"
      ],
      "execution_count": 29,
      "outputs": []
    },
    {
      "cell_type": "code",
      "metadata": {
        "colab": {
          "base_uri": "https://localhost:8080/"
        },
        "id": "cMxWii-_VNyU",
        "outputId": "9c33985e-fe97-4f12-9124-9e710eca2eb5"
      },
      "source": [
        "print('Recall: %.3f' % recall_score(y_test, y_pred))"
      ],
      "execution_count": 30,
      "outputs": [
        {
          "output_type": "stream",
          "name": "stdout",
          "text": [
            "Recall: 0.009\n"
          ]
        }
      ]
    },
    {
      "cell_type": "markdown",
      "metadata": {
        "id": "OEa4wQKgyX-a"
      },
      "source": [
        "Not a good score."
      ]
    },
    {
      "cell_type": "markdown",
      "metadata": {
        "id": "duj7eQSStrTR"
      },
      "source": [
        "## Random forest"
      ]
    },
    {
      "cell_type": "code",
      "metadata": {
        "colab": {
          "base_uri": "https://localhost:8080/"
        },
        "id": "gLuPMLs-uCza",
        "outputId": "9391f73c-2285-4303-d350-3cda99b95941"
      },
      "source": [
        "from sklearn.ensemble import RandomForestClassifier\n",
        "rf = RandomForestClassifier(random_state = 42)\n",
        "rf.fit(X_train_normal, y_train)\n",
        "print(\"score on test: \" + str(rf.score(X_test_normal, y_test)))\n",
        "print(\"score on train: \"+ str(rf.score(X_train_normal, y_train)))"
      ],
      "execution_count": 31,
      "outputs": [
        {
          "output_type": "stream",
          "name": "stdout",
          "text": [
            "score on test: 0.8652566188433664\n",
            "score on train: 0.9990940438002089\n"
          ]
        }
      ]
    },
    {
      "cell_type": "code",
      "metadata": {
        "id": "wy5DClXN089w"
      },
      "source": [
        "y_pred = rf.predict(X_test_normal)"
      ],
      "execution_count": 32,
      "outputs": []
    },
    {
      "cell_type": "code",
      "metadata": {
        "colab": {
          "base_uri": "https://localhost:8080/"
        },
        "id": "QZtw8qTb1_Pf",
        "outputId": "2cc60dda-9e54-4f18-ffe7-b2f8aa6d0d69"
      },
      "source": [
        "from sklearn.metrics import recall_score\n",
        "print('Recall: %.3f' % recall_score(y_test, y_pred))"
      ],
      "execution_count": null,
      "outputs": [
        {
          "output_type": "stream",
          "name": "stdout",
          "text": [
            "Recall: 0.063\n"
          ]
        }
      ]
    },
    {
      "cell_type": "markdown",
      "metadata": {
        "id": "NGGpXVSl0h3g"
      },
      "source": [
        "Great score on training set, but the score on the testing set indicates overfitting.\n",
        "\n",
        "Recall is 6.3%, at least it classifies some of the people as sick.\n",
        "\n",
        "First try is rarely good, so we will tune the hyperparameters.\n",
        "\n",
        "Let's check the current values of the hyperparameters."
      ]
    },
    {
      "cell_type": "code",
      "metadata": {
        "colab": {
          "base_uri": "https://localhost:8080/"
        },
        "id": "Qvg-O_0X0wu3",
        "outputId": "5f56d0cc-7006-47ef-882c-49d082f741e9"
      },
      "source": [
        "from pprint import pprint\n",
        "\n",
        "print('Parameters currently in use:\\n')\n",
        "pprint(rf.get_params())"
      ],
      "execution_count": null,
      "outputs": [
        {
          "output_type": "stream",
          "name": "stdout",
          "text": [
            "Parameters currently in use:\n",
            "\n",
            "{'bootstrap': True,\n",
            " 'ccp_alpha': 0.0,\n",
            " 'class_weight': None,\n",
            " 'criterion': 'gini',\n",
            " 'max_depth': None,\n",
            " 'max_features': 'auto',\n",
            " 'max_leaf_nodes': None,\n",
            " 'max_samples': None,\n",
            " 'min_impurity_decrease': 0.0,\n",
            " 'min_impurity_split': None,\n",
            " 'min_samples_leaf': 1,\n",
            " 'min_samples_split': 2,\n",
            " 'min_weight_fraction_leaf': 0.0,\n",
            " 'n_estimators': 100,\n",
            " 'n_jobs': None,\n",
            " 'oob_score': False,\n",
            " 'random_state': 42,\n",
            " 'verbose': 0,\n",
            " 'warm_start': False}\n"
          ]
        }
      ]
    },
    {
      "cell_type": "markdown",
      "metadata": {
        "id": "GO3dEqLq1CeH"
      },
      "source": [
        "The most important parameters are the number of decision trees (`n_estimators`) and the number of attributes which are used for splitting in each leaf (`max_features`).\n",
        "\n",
        "We will also try different values or the number of levels in each of the tree (`max_depth`), minimal number of data in the node before the split (`min_samples_split`), minimal number of data in the leaf (`min_samples_leaf`) and the bootstrapping method `bootstrap` (with or without the repetition)."
      ]
    },
    {
      "cell_type": "markdown",
      "metadata": {
        "id": "GxYCrkY03ED1"
      },
      "source": [
        "Let's create the parameter grid. In each iteration, the algorithm will choose one of the possible combination of parameters."
      ]
    },
    {
      "cell_type": "code",
      "metadata": {
        "colab": {
          "base_uri": "https://localhost:8080/"
        },
        "id": "-Th3t6nM3JQB",
        "outputId": "54c602d1-5f93-4c9c-da49-b8aa415a7da6"
      },
      "source": [
        "from sklearn.model_selection import RandomizedSearchCV\n",
        "\n",
        "n_estimators = [30,40]\n",
        "max_features = ['auto', 'sqrt']\n",
        "max_depth = [int(x) for x in np.linspace(10, 60, num = 11)]\n",
        "max_depth.append(None)\n",
        "min_samples_split = [2, 5, 10]\n",
        "min_samples_leaf = [1, 2, 4]\n",
        "bootstrap = [True, False]\n",
        "random_grid = {'n_estimators': n_estimators,\n",
        "               'max_features': max_features,\n",
        "               'max_depth': max_depth,\n",
        "               'min_samples_split': min_samples_split,\n",
        "               'min_samples_leaf': min_samples_leaf,\n",
        "               'bootstrap': bootstrap}\n",
        "pprint(random_grid)\n"
      ],
      "execution_count": null,
      "outputs": [
        {
          "output_type": "stream",
          "name": "stdout",
          "text": [
            "{'bootstrap': [True, False],\n",
            " 'max_depth': [10, 15, 20, 25, 30, 35, 40, 45, 50, 55, 60, None],\n",
            " 'max_features': ['auto', 'sqrt'],\n",
            " 'min_samples_leaf': [1, 2, 4],\n",
            " 'min_samples_split': [2, 5, 10],\n",
            " 'n_estimators': [30, 40]}\n"
          ]
        }
      ]
    },
    {
      "cell_type": "code",
      "metadata": {
        "colab": {
          "base_uri": "https://localhost:8080/"
        },
        "id": "f2ismCre4VEe",
        "outputId": "42ba6824-eb6a-4328-cdde-b8c36b1eaefe"
      },
      "source": [
        "rf = RandomForestClassifier()\n",
        "rf_random = RandomizedSearchCV(estimator = rf, param_distributions = random_grid, n_iter = 100, cv = 3, verbose=2, random_state=42, n_jobs = -1)\n",
        "rf_random.fit(X_train_normal, y_train)"
      ],
      "execution_count": null,
      "outputs": [
        {
          "output_type": "stream",
          "name": "stdout",
          "text": [
            "Fitting 3 folds for each of 100 candidates, totalling 300 fits\n"
          ]
        },
        {
          "output_type": "stream",
          "name": "stderr",
          "text": [
            "[Parallel(n_jobs=-1)]: Using backend LokyBackend with 2 concurrent workers.\n",
            "[Parallel(n_jobs=-1)]: Done  37 tasks      | elapsed:  2.1min\n",
            "[Parallel(n_jobs=-1)]: Done 158 tasks      | elapsed:  8.1min\n",
            "[Parallel(n_jobs=-1)]: Done 300 out of 300 | elapsed: 15.7min finished\n"
          ]
        },
        {
          "output_type": "execute_result",
          "data": {
            "text/plain": [
              "RandomizedSearchCV(cv=3, error_score=nan,\n",
              "                   estimator=RandomForestClassifier(bootstrap=True,\n",
              "                                                    ccp_alpha=0.0,\n",
              "                                                    class_weight=None,\n",
              "                                                    criterion='gini',\n",
              "                                                    max_depth=None,\n",
              "                                                    max_features='auto',\n",
              "                                                    max_leaf_nodes=None,\n",
              "                                                    max_samples=None,\n",
              "                                                    min_impurity_decrease=0.0,\n",
              "                                                    min_impurity_split=None,\n",
              "                                                    min_samples_leaf=1,\n",
              "                                                    min_samples_split=2,\n",
              "                                                    min_weight_fraction_leaf=0.0,\n",
              "                                                    n_estimators=100,\n",
              "                                                    n_jobs...\n",
              "                                                    warm_start=False),\n",
              "                   iid='deprecated', n_iter=100, n_jobs=-1,\n",
              "                   param_distributions={'bootstrap': [True, False],\n",
              "                                        'max_depth': [10, 15, 20, 25, 30, 35,\n",
              "                                                      40, 45, 50, 55, 60,\n",
              "                                                      None],\n",
              "                                        'max_features': ['auto', 'sqrt'],\n",
              "                                        'min_samples_leaf': [1, 2, 4],\n",
              "                                        'min_samples_split': [2, 5, 10],\n",
              "                                        'n_estimators': [30, 40]},\n",
              "                   pre_dispatch='2*n_jobs', random_state=42, refit=True,\n",
              "                   return_train_score=False, scoring=None, verbose=2)"
            ]
          },
          "metadata": {},
          "execution_count": 90
        }
      ]
    },
    {
      "cell_type": "markdown",
      "metadata": {
        "id": "lfaePfYMNp5W"
      },
      "source": [
        "Check for the best parameters."
      ]
    },
    {
      "cell_type": "code",
      "metadata": {
        "colab": {
          "base_uri": "https://localhost:8080/"
        },
        "id": "BVxnPIt_NuBZ",
        "outputId": "31d69e7a-00d8-4f91-a0fd-f1a8b1373d12"
      },
      "source": [
        "rf_random.best_params_"
      ],
      "execution_count": null,
      "outputs": [
        {
          "output_type": "execute_result",
          "data": {
            "text/plain": [
              "{'bootstrap': True,\n",
              " 'max_depth': 10,\n",
              " 'max_features': 'sqrt',\n",
              " 'min_samples_leaf': 1,\n",
              " 'min_samples_split': 10,\n",
              " 'n_estimators': 40}"
            ]
          },
          "metadata": {},
          "execution_count": 91
        }
      ]
    },
    {
      "cell_type": "code",
      "metadata": {
        "colab": {
          "base_uri": "https://localhost:8080/"
        },
        "id": "PMsIqECUOLze",
        "outputId": "479e6d80-6c0a-4607-f24d-3cb7f37f870f"
      },
      "source": [
        "print(\"score on test: \" + str(rf_random.score(X_test_normal, y_test)))\n",
        "print(\"score on train: \"+ str(rf_random.score(X_train_normal, y_train)))"
      ],
      "execution_count": null,
      "outputs": [
        {
          "output_type": "stream",
          "name": "stdout",
          "text": [
            "score on test: 0.9182073657742937\n",
            "score on train: 0.9191665202961922\n"
          ]
        }
      ]
    },
    {
      "cell_type": "code",
      "metadata": {
        "id": "-ss8gjJoWAqQ"
      },
      "source": [
        "y_pred = rf_random.predict(X_test_normal)"
      ],
      "execution_count": null,
      "outputs": []
    },
    {
      "cell_type": "code",
      "metadata": {
        "colab": {
          "base_uri": "https://localhost:8080/"
        },
        "id": "ujCguPCLWHab",
        "outputId": "177792a2-659d-4d65-a3da-e13028351b51"
      },
      "source": [
        "print('Recall: %.3f' % recall_score(y_test, y_pred))"
      ],
      "execution_count": null,
      "outputs": [
        {
          "output_type": "stream",
          "name": "stdout",
          "text": [
            "Recall: 0.000\n"
          ]
        }
      ]
    },
    {
      "cell_type": "markdown",
      "metadata": {
        "id": "rubhG8s2OnUy"
      },
      "source": [
        "Better accuracy score than the random forest with default parameters, but recall is now zero.\n",
        "\n",
        "Let's focus more on the results we've got so far. Let's remind ourselves that the model that produces the output \"0\" no matter what the input is, it has the accuracy of 0.9182073657742937 and the recall of 0. This indicates that the model we've got with the random forest (and the Naive Bayes earlier) is that it outputs the value \"0\" every time. This basically means that each sick person is classified as the healthy person.\n",
        "\n",
        "We didn't find a good predictive model so far. The last thing we will try are deep neural networks."
      ]
    },
    {
      "cell_type": "markdown",
      "metadata": {
        "id": "bl1xY3xBomKQ"
      },
      "source": [
        "## Deep models\n",
        "\n",
        "Let's try a basic neural network with one layer."
      ]
    },
    {
      "cell_type": "code",
      "metadata": {
        "colab": {
          "base_uri": "https://localhost:8080/"
        },
        "id": "cZoFoQGSpX8E",
        "outputId": "48cd5e6a-2c52-4dd2-f0dd-0d1da3eb81ad"
      },
      "source": [
        "type(y_train)"
      ],
      "execution_count": null,
      "outputs": [
        {
          "output_type": "execute_result",
          "data": {
            "text/plain": [
              "pandas.core.series.Series"
            ]
          },
          "metadata": {},
          "execution_count": 17
        }
      ]
    },
    {
      "cell_type": "code",
      "metadata": {
        "id": "FSpY3dPWptp7"
      },
      "source": [
        "y_train = np.asarray(y_train).astype('float32')"
      ],
      "execution_count": null,
      "outputs": []
    },
    {
      "cell_type": "code",
      "metadata": {
        "id": "1GM19rTJptsF"
      },
      "source": [
        "y_test = np.asarray(y_test).astype('float32')"
      ],
      "execution_count": null,
      "outputs": []
    },
    {
      "cell_type": "code",
      "metadata": {
        "colab": {
          "base_uri": "https://localhost:8080/"
        },
        "id": "kISOu72TqXeV",
        "outputId": "b44626a4-28dc-4db7-b81a-9a98114d608e"
      },
      "source": [
        "X_train_normal.shape"
      ],
      "execution_count": null,
      "outputs": [
        {
          "output_type": "execute_result",
          "data": {
            "text/plain": [
              "(108173, 12)"
            ]
          },
          "metadata": {},
          "execution_count": 27
        }
      ]
    },
    {
      "cell_type": "code",
      "metadata": {
        "id": "8_UltUFtrXIk"
      },
      "source": [
        "X_train = X_train_normal.reshape((-1,1))"
      ],
      "execution_count": null,
      "outputs": []
    },
    {
      "cell_type": "code",
      "metadata": {
        "colab": {
          "base_uri": "https://localhost:8080/"
        },
        "id": "Nt16kRukrgk1",
        "outputId": "7190569a-c3d5-4f5f-d872-f0df09436b1c"
      },
      "source": [
        "X_train.shape"
      ],
      "execution_count": null,
      "outputs": [
        {
          "output_type": "execute_result",
          "data": {
            "text/plain": [
              "(1298076, 1)"
            ]
          },
          "metadata": {},
          "execution_count": 29
        }
      ]
    },
    {
      "cell_type": "code",
      "metadata": {
        "colab": {
          "base_uri": "https://localhost:8080/"
        },
        "id": "2IR8-U5krtY9",
        "outputId": "bb500a53-b095-489d-aa7c-2ffb2c8a2078"
      },
      "source": [
        "nn_model = tf.keras.Sequential([\n",
        "   tf.keras.layers.Flatten(),\n",
        "   tf.keras.layers.Dense(128, activation=\"relu\"),\n",
        "   tf.keras.layers.Dense(1, activation=\"sigmoid\")                             \n",
        "])\n",
        "\n",
        "nn_model.compile(loss=tf.keras.losses.BinaryCrossentropy(),\n",
        "                 optimizer=tf.keras.optimizers.Adam(),\n",
        "                 metrics=[\"accuracy\"])\n",
        "\n",
        "nn_model.fit(X_train_normal, y_train, batch_size=32, epochs=5)"
      ],
      "execution_count": null,
      "outputs": [
        {
          "output_type": "stream",
          "name": "stdout",
          "text": [
            "Epoch 1/5\n",
            "3381/3381 [==============================] - 7s 2ms/step - loss: 0.2846 - accuracy: 0.9185\n",
            "Epoch 2/5\n",
            "3381/3381 [==============================] - 6s 2ms/step - loss: 0.2817 - accuracy: 0.9192\n",
            "Epoch 3/5\n",
            "3381/3381 [==============================] - 6s 2ms/step - loss: 0.2816 - accuracy: 0.9192\n",
            "Epoch 4/5\n",
            "3381/3381 [==============================] - 6s 2ms/step - loss: 0.2814 - accuracy: 0.9192\n",
            "Epoch 5/5\n",
            "3381/3381 [==============================] - 6s 2ms/step - loss: 0.2816 - accuracy: 0.9192\n"
          ]
        },
        {
          "output_type": "execute_result",
          "data": {
            "text/plain": [
              "<keras.callbacks.History at 0x7fb9aa494d90>"
            ]
          },
          "metadata": {},
          "execution_count": 30
        }
      ]
    },
    {
      "cell_type": "code",
      "metadata": {
        "colab": {
          "base_uri": "https://localhost:8080/"
        },
        "id": "ENFLp90Hsy4e",
        "outputId": "4da09ff7-40d3-4958-cdd3-e50f91bbb9e4"
      },
      "source": [
        "nn_model.evaluate(X_test_normal, y_test)"
      ],
      "execution_count": null,
      "outputs": [
        {
          "output_type": "stream",
          "name": "stdout",
          "text": [
            "846/846 [==============================] - 1s 1ms/step - loss: 0.2836 - accuracy: 0.9182\n"
          ]
        },
        {
          "output_type": "execute_result",
          "data": {
            "text/plain": [
              "[0.2835647761821747, 0.9182073473930359]"
            ]
          },
          "metadata": {},
          "execution_count": 31
        }
      ]
    },
    {
      "cell_type": "markdown",
      "metadata": {
        "id": "eZ2mhozztWTJ"
      },
      "source": [
        "Check for the recall score."
      ]
    },
    {
      "cell_type": "code",
      "metadata": {
        "id": "rIa9fA6XtYPo"
      },
      "source": [
        "y_pred = np.round(nn_model.predict(X_test_normal))"
      ],
      "execution_count": null,
      "outputs": []
    },
    {
      "cell_type": "code",
      "metadata": {
        "colab": {
          "base_uri": "https://localhost:8080/"
        },
        "id": "3eLTXJNOtbkh",
        "outputId": "61e1a088-9ce7-4028-86aa-b60c6f7b7498"
      },
      "source": [
        "from sklearn.metrics import recall_score\n",
        "print('Recall: %.3f' % recall_score(y_test, y_pred))"
      ],
      "execution_count": null,
      "outputs": [
        {
          "output_type": "stream",
          "name": "stdout",
          "text": [
            "Recall: 0.000\n"
          ]
        }
      ]
    },
    {
      "cell_type": "markdown",
      "metadata": {
        "id": "zeIa26SN9WPE"
      },
      "source": [
        "Still 0! The first try is rarely good, so let's try hyperparameter tuning."
      ]
    },
    {
      "cell_type": "code",
      "metadata": {
        "colab": {
          "base_uri": "https://localhost:8080/"
        },
        "id": "WpgKlIbmy_kR",
        "outputId": "04fc303b-7a87-4f60-ec08-4ece8a00b1cf"
      },
      "source": [
        "pip install -U keras-tuner"
      ],
      "execution_count": null,
      "outputs": [
        {
          "output_type": "stream",
          "name": "stdout",
          "text": [
            "Collecting keras-tuner\n",
            "  Downloading keras_tuner-1.0.4-py3-none-any.whl (97 kB)\n",
            "\u001b[?25l\r\u001b[K     |███▍                            | 10 kB 19.6 MB/s eta 0:00:01\r\u001b[K     |██████▊                         | 20 kB 24.1 MB/s eta 0:00:01\r\u001b[K     |██████████                      | 30 kB 17.3 MB/s eta 0:00:01\r\u001b[K     |█████████████▍                  | 40 kB 11.6 MB/s eta 0:00:01\r\u001b[K     |████████████████▊               | 51 kB 5.0 MB/s eta 0:00:01\r\u001b[K     |████████████████████            | 61 kB 5.1 MB/s eta 0:00:01\r\u001b[K     |███████████████████████▍        | 71 kB 4.9 MB/s eta 0:00:01\r\u001b[K     |██████████████████████████▊     | 81 kB 5.5 MB/s eta 0:00:01\r\u001b[K     |██████████████████████████████▏ | 92 kB 5.4 MB/s eta 0:00:01\r\u001b[K     |████████████████████████████████| 97 kB 3.0 MB/s \n",
            "\u001b[?25hRequirement already satisfied: tensorboard in /usr/local/lib/python3.7/dist-packages (from keras-tuner) (2.6.0)\n",
            "Requirement already satisfied: packaging in /usr/local/lib/python3.7/dist-packages (from keras-tuner) (21.0)\n",
            "Requirement already satisfied: ipython in /usr/local/lib/python3.7/dist-packages (from keras-tuner) (5.5.0)\n",
            "Collecting kt-legacy\n",
            "  Downloading kt_legacy-1.0.4-py3-none-any.whl (9.6 kB)\n",
            "Requirement already satisfied: requests in /usr/local/lib/python3.7/dist-packages (from keras-tuner) (2.23.0)\n",
            "Requirement already satisfied: numpy in /usr/local/lib/python3.7/dist-packages (from keras-tuner) (1.19.5)\n",
            "Requirement already satisfied: scipy in /usr/local/lib/python3.7/dist-packages (from keras-tuner) (1.4.1)\n",
            "Requirement already satisfied: pickleshare in /usr/local/lib/python3.7/dist-packages (from ipython->keras-tuner) (0.7.5)\n",
            "Requirement already satisfied: traitlets>=4.2 in /usr/local/lib/python3.7/dist-packages (from ipython->keras-tuner) (5.1.0)\n",
            "Requirement already satisfied: pygments in /usr/local/lib/python3.7/dist-packages (from ipython->keras-tuner) (2.6.1)\n",
            "Requirement already satisfied: prompt-toolkit<2.0.0,>=1.0.4 in /usr/local/lib/python3.7/dist-packages (from ipython->keras-tuner) (1.0.18)\n",
            "Requirement already satisfied: simplegeneric>0.8 in /usr/local/lib/python3.7/dist-packages (from ipython->keras-tuner) (0.8.1)\n",
            "Requirement already satisfied: pexpect in /usr/local/lib/python3.7/dist-packages (from ipython->keras-tuner) (4.8.0)\n",
            "Requirement already satisfied: setuptools>=18.5 in /usr/local/lib/python3.7/dist-packages (from ipython->keras-tuner) (57.4.0)\n",
            "Requirement already satisfied: decorator in /usr/local/lib/python3.7/dist-packages (from ipython->keras-tuner) (4.4.2)\n",
            "Requirement already satisfied: six>=1.9.0 in /usr/local/lib/python3.7/dist-packages (from prompt-toolkit<2.0.0,>=1.0.4->ipython->keras-tuner) (1.15.0)\n",
            "Requirement already satisfied: wcwidth in /usr/local/lib/python3.7/dist-packages (from prompt-toolkit<2.0.0,>=1.0.4->ipython->keras-tuner) (0.2.5)\n",
            "Requirement already satisfied: pyparsing>=2.0.2 in /usr/local/lib/python3.7/dist-packages (from packaging->keras-tuner) (2.4.7)\n",
            "Requirement already satisfied: ptyprocess>=0.5 in /usr/local/lib/python3.7/dist-packages (from pexpect->ipython->keras-tuner) (0.7.0)\n",
            "Requirement already satisfied: chardet<4,>=3.0.2 in /usr/local/lib/python3.7/dist-packages (from requests->keras-tuner) (3.0.4)\n",
            "Requirement already satisfied: certifi>=2017.4.17 in /usr/local/lib/python3.7/dist-packages (from requests->keras-tuner) (2021.5.30)\n",
            "Requirement already satisfied: idna<3,>=2.5 in /usr/local/lib/python3.7/dist-packages (from requests->keras-tuner) (2.10)\n",
            "Requirement already satisfied: urllib3!=1.25.0,!=1.25.1,<1.26,>=1.21.1 in /usr/local/lib/python3.7/dist-packages (from requests->keras-tuner) (1.24.3)\n",
            "Requirement already satisfied: werkzeug>=0.11.15 in /usr/local/lib/python3.7/dist-packages (from tensorboard->keras-tuner) (1.0.1)\n",
            "Requirement already satisfied: google-auth<2,>=1.6.3 in /usr/local/lib/python3.7/dist-packages (from tensorboard->keras-tuner) (1.35.0)\n",
            "Requirement already satisfied: wheel>=0.26 in /usr/local/lib/python3.7/dist-packages (from tensorboard->keras-tuner) (0.37.0)\n",
            "Requirement already satisfied: markdown>=2.6.8 in /usr/local/lib/python3.7/dist-packages (from tensorboard->keras-tuner) (3.3.4)\n",
            "Requirement already satisfied: tensorboard-plugin-wit>=1.6.0 in /usr/local/lib/python3.7/dist-packages (from tensorboard->keras-tuner) (1.8.0)\n",
            "Requirement already satisfied: absl-py>=0.4 in /usr/local/lib/python3.7/dist-packages (from tensorboard->keras-tuner) (0.12.0)\n",
            "Requirement already satisfied: protobuf>=3.6.0 in /usr/local/lib/python3.7/dist-packages (from tensorboard->keras-tuner) (3.17.3)\n",
            "Requirement already satisfied: tensorboard-data-server<0.7.0,>=0.6.0 in /usr/local/lib/python3.7/dist-packages (from tensorboard->keras-tuner) (0.6.1)\n",
            "Requirement already satisfied: google-auth-oauthlib<0.5,>=0.4.1 in /usr/local/lib/python3.7/dist-packages (from tensorboard->keras-tuner) (0.4.6)\n",
            "Requirement already satisfied: grpcio>=1.24.3 in /usr/local/lib/python3.7/dist-packages (from tensorboard->keras-tuner) (1.41.0)\n",
            "Requirement already satisfied: rsa<5,>=3.1.4 in /usr/local/lib/python3.7/dist-packages (from google-auth<2,>=1.6.3->tensorboard->keras-tuner) (4.7.2)\n",
            "Requirement already satisfied: pyasn1-modules>=0.2.1 in /usr/local/lib/python3.7/dist-packages (from google-auth<2,>=1.6.3->tensorboard->keras-tuner) (0.2.8)\n",
            "Requirement already satisfied: cachetools<5.0,>=2.0.0 in /usr/local/lib/python3.7/dist-packages (from google-auth<2,>=1.6.3->tensorboard->keras-tuner) (4.2.4)\n",
            "Requirement already satisfied: requests-oauthlib>=0.7.0 in /usr/local/lib/python3.7/dist-packages (from google-auth-oauthlib<0.5,>=0.4.1->tensorboard->keras-tuner) (1.3.0)\n",
            "Requirement already satisfied: importlib-metadata in /usr/local/lib/python3.7/dist-packages (from markdown>=2.6.8->tensorboard->keras-tuner) (4.8.1)\n",
            "Requirement already satisfied: pyasn1<0.5.0,>=0.4.6 in /usr/local/lib/python3.7/dist-packages (from pyasn1-modules>=0.2.1->google-auth<2,>=1.6.3->tensorboard->keras-tuner) (0.4.8)\n",
            "Requirement already satisfied: oauthlib>=3.0.0 in /usr/local/lib/python3.7/dist-packages (from requests-oauthlib>=0.7.0->google-auth-oauthlib<0.5,>=0.4.1->tensorboard->keras-tuner) (3.1.1)\n",
            "Requirement already satisfied: typing-extensions>=3.6.4 in /usr/local/lib/python3.7/dist-packages (from importlib-metadata->markdown>=2.6.8->tensorboard->keras-tuner) (3.7.4.3)\n",
            "Requirement already satisfied: zipp>=0.5 in /usr/local/lib/python3.7/dist-packages (from importlib-metadata->markdown>=2.6.8->tensorboard->keras-tuner) (3.6.0)\n",
            "Installing collected packages: kt-legacy, keras-tuner\n",
            "Successfully installed keras-tuner-1.0.4 kt-legacy-1.0.4\n"
          ]
        }
      ]
    },
    {
      "cell_type": "code",
      "metadata": {
        "colab": {
          "base_uri": "https://localhost:8080/"
        },
        "id": "f1fDYVTkwvSY",
        "outputId": "b872354c-24df-4faa-dca4-ae442b160f02"
      },
      "source": [
        "from kerastuner.tuners import RandomSearch\n",
        "\n",
        "def model_builder(hp):\n",
        "  model = tf.keras.Sequential()\n",
        "  model.add(tf.keras.layers.Flatten())\n",
        "  hp_units = hp.Int('units', min_value = 32, max_value = 512, step = 32)\n",
        "  model.add(tf.keras.layers.Dense(units = hp_units, activation = \"relu\"))\n",
        "  model.add(tf.keras.layers.Dense(1))\n",
        "  hp_learning_rate = hp.Choice('learning_rage', values = [1e-2, 1e-3, 1e-4])\n",
        "  model.compile(optimizer = tf.keras.optimizers.Adam(learning_rate = hp_learning_rate),\n",
        "                loss = tf.keras.losses.BinaryCrossentropy(from_logits = True),\n",
        "                metrics = [\"accuracy\"])\n",
        "  return model\n",
        "\n",
        "tuner = RandomSearch(model_builder,\n",
        "                        objective = 'val_accuracy',\n",
        "                        max_trials = 10)"
      ],
      "execution_count": null,
      "outputs": [
        {
          "output_type": "stream",
          "name": "stderr",
          "text": [
            "/usr/local/lib/python3.7/dist-packages/ipykernel_launcher.py:1: DeprecationWarning: `import kerastuner` is deprecated, please use `import keras_tuner`.\n",
            "  \"\"\"Entry point for launching an IPython kernel.\n"
          ]
        }
      ]
    },
    {
      "cell_type": "code",
      "metadata": {
        "colab": {
          "base_uri": "https://localhost:8080/"
        },
        "id": "_Bsp_M8Nzg1L",
        "outputId": "b0cb7ce2-eb68-4772-ad0a-d83de2a06932"
      },
      "source": [
        "tuner.search(X_train_normal, y_train, validation_data=(X_test_normal, y_test), epochs=5, batch_size=32)"
      ],
      "execution_count": null,
      "outputs": [
        {
          "output_type": "stream",
          "name": "stdout",
          "text": [
            "Trial 10 Complete [00h 00m 41s]\n",
            "val_accuracy: 0.9182073473930359\n",
            "\n",
            "Best val_accuracy So Far: 0.9182073473930359\n",
            "Total elapsed time: 00h 08m 55s\n",
            "INFO:tensorflow:Oracle triggered exit\n"
          ]
        }
      ]
    },
    {
      "cell_type": "markdown",
      "metadata": {
        "id": "4HgM-vmk8kyC"
      },
      "source": [
        "Let's find the best model."
      ]
    },
    {
      "cell_type": "code",
      "metadata": {
        "id": "Dt68r03NzGe_"
      },
      "source": [
        "best_nn_model = tuner.get_best_models(1)[0]"
      ],
      "execution_count": null,
      "outputs": []
    },
    {
      "cell_type": "code",
      "metadata": {
        "colab": {
          "base_uri": "https://localhost:8080/"
        },
        "id": "KPWAUzT225_h",
        "outputId": "9c8b80b8-021d-4297-89cc-a8dd099d9007"
      },
      "source": [
        "best_nn_model.evaluate(X_test_normal, y_test)"
      ],
      "execution_count": null,
      "outputs": [
        {
          "output_type": "stream",
          "name": "stdout",
          "text": [
            "846/846 [==============================] - 1s 1ms/step - loss: 0.2834 - accuracy: 0.9182\n"
          ]
        },
        {
          "output_type": "execute_result",
          "data": {
            "text/plain": [
              "[0.2833653390407562, 0.9182073473930359]"
            ]
          },
          "metadata": {},
          "execution_count": 46
        }
      ]
    },
    {
      "cell_type": "markdown",
      "metadata": {
        "id": "MxIXdtv33CML"
      },
      "source": [
        "Check the recall score."
      ]
    },
    {
      "cell_type": "code",
      "metadata": {
        "id": "nIjGEz263EZG"
      },
      "source": [
        "y_pred = np.round(best_nn_model.predict(X_test_normal))"
      ],
      "execution_count": null,
      "outputs": []
    },
    {
      "cell_type": "code",
      "metadata": {
        "id": "Wo5RhO0-3RkG"
      },
      "source": [
        "y_test = np.reshape(y_test, (27044,1))"
      ],
      "execution_count": null,
      "outputs": []
    },
    {
      "cell_type": "code",
      "metadata": {
        "colab": {
          "base_uri": "https://localhost:8080/"
        },
        "id": "pMi51SU93Ebo",
        "outputId": "06d6d10c-388f-4dde-c384-b72fc5f2fdbe"
      },
      "source": [
        "print('Recall: %.3f' % recall_score(y_test, y_pred, average='micro'))"
      ],
      "execution_count": null,
      "outputs": [
        {
          "output_type": "stream",
          "name": "stdout",
          "text": [
            "Recall: 0.000\n"
          ]
        }
      ]
    },
    {
      "cell_type": "markdown",
      "metadata": {
        "id": "GG74Ty934v-q"
      },
      "source": [
        "Still 0."
      ]
    },
    {
      "cell_type": "markdown",
      "metadata": {
        "id": "2l247nof4ydE"
      },
      "source": [
        "##***Conclusion***\n",
        "\n",
        "Each model outputs \"0\". Neither of those models is a good classifier.\n",
        "\n",
        "One conjecture (which I've derived from the different plots and the correlation matrix) to why we can't get a good model could be that the given dataset is computer generated and it's not taken from the real life. Since the ratio of healthy/sick people was equal-ish for all of the attributes (which will be the case if the data was generated using uniform distribution) and the distribution of income had non-sense values like negative ones (which is possible if the data was generated using normal distribution which is defined for ALL real numbers), the conclusion that the data is not real is actually valid.\n",
        "\n",
        "Edit: On the Kaggle site it indeed says that the dataset is fictional, so our conclusion was right."
      ]
    }
  ]
}