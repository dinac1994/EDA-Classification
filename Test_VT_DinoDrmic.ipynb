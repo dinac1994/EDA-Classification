{
  "nbformat": 4,
  "nbformat_minor": 0,
  "metadata": {
    "colab": {
      "name": "Test_VT_DinoDrmic.ipynb",
      "provenance": [],
      "collapsed_sections": []
    },
    "kernelspec": {
      "name": "python3",
      "display_name": "Python 3"
    },
    "language_info": {
      "name": "python"
    }
  },
  "cells": [
    {
      "cell_type": "markdown",
      "metadata": {
        "id": "W9NlmBp8-ibJ"
      },
      "source": [
        "### Potrebne biblioteke i učitavanje podataka"
      ]
    },
    {
      "cell_type": "code",
      "metadata": {
        "id": "JcbBrLvw-n4N"
      },
      "source": [
        "import pandas as pd\n",
        "import numpy as np\n",
        "import tensorflow as tf\n",
        "import seaborn as sns \n",
        "import matplotlib.pyplot as plt\n",
        "%matplotlib inline \n",
        "sns.set(color_codes=True)"
      ],
      "execution_count": 1,
      "outputs": []
    },
    {
      "cell_type": "code",
      "metadata": {
        "colab": {
          "base_uri": "https://localhost:8080/",
          "height": 203
        },
        "id": "zXjFumqE-n6q",
        "outputId": "7c9701fd-725c-452b-df7f-cb39e63c5d82"
      },
      "source": [
        "df = pd.read_csv(\"toy_dataset.csv\")\n",
        "df.head(5)"
      ],
      "execution_count": 2,
      "outputs": [
        {
          "output_type": "execute_result",
          "data": {
            "text/html": [
              "<div>\n",
              "<style scoped>\n",
              "    .dataframe tbody tr th:only-of-type {\n",
              "        vertical-align: middle;\n",
              "    }\n",
              "\n",
              "    .dataframe tbody tr th {\n",
              "        vertical-align: top;\n",
              "    }\n",
              "\n",
              "    .dataframe thead th {\n",
              "        text-align: right;\n",
              "    }\n",
              "</style>\n",
              "<table border=\"1\" class=\"dataframe\">\n",
              "  <thead>\n",
              "    <tr style=\"text-align: right;\">\n",
              "      <th></th>\n",
              "      <th>Number</th>\n",
              "      <th>City</th>\n",
              "      <th>Gender</th>\n",
              "      <th>Age</th>\n",
              "      <th>Income</th>\n",
              "      <th>Illness</th>\n",
              "    </tr>\n",
              "  </thead>\n",
              "  <tbody>\n",
              "    <tr>\n",
              "      <th>0</th>\n",
              "      <td>1</td>\n",
              "      <td>Dallas</td>\n",
              "      <td>Male</td>\n",
              "      <td>41</td>\n",
              "      <td>40367.0</td>\n",
              "      <td>No</td>\n",
              "    </tr>\n",
              "    <tr>\n",
              "      <th>1</th>\n",
              "      <td>2</td>\n",
              "      <td>Dallas</td>\n",
              "      <td>Male</td>\n",
              "      <td>54</td>\n",
              "      <td>45084.0</td>\n",
              "      <td>No</td>\n",
              "    </tr>\n",
              "    <tr>\n",
              "      <th>2</th>\n",
              "      <td>3</td>\n",
              "      <td>Dallas</td>\n",
              "      <td>Male</td>\n",
              "      <td>42</td>\n",
              "      <td>52483.0</td>\n",
              "      <td>No</td>\n",
              "    </tr>\n",
              "    <tr>\n",
              "      <th>3</th>\n",
              "      <td>4</td>\n",
              "      <td>Dallas</td>\n",
              "      <td>Male</td>\n",
              "      <td>40</td>\n",
              "      <td>40941.0</td>\n",
              "      <td>No</td>\n",
              "    </tr>\n",
              "    <tr>\n",
              "      <th>4</th>\n",
              "      <td>5</td>\n",
              "      <td>Dallas</td>\n",
              "      <td>Male</td>\n",
              "      <td>46</td>\n",
              "      <td>50289.0</td>\n",
              "      <td>No</td>\n",
              "    </tr>\n",
              "  </tbody>\n",
              "</table>\n",
              "</div>"
            ],
            "text/plain": [
              "   Number    City Gender  Age   Income Illness\n",
              "0       1  Dallas   Male   41  40367.0      No\n",
              "1       2  Dallas   Male   54  45084.0      No\n",
              "2       3  Dallas   Male   42  52483.0      No\n",
              "3       4  Dallas   Male   40  40941.0      No\n",
              "4       5  Dallas   Male   46  50289.0      No"
            ]
          },
          "metadata": {},
          "execution_count": 2
        }
      ]
    },
    {
      "cell_type": "markdown",
      "metadata": {
        "id": "_jvHtMY-AF5E"
      },
      "source": [
        "# Eksplorativna analiza podataka\n",
        "\n",
        "Jedan od ciljeva eksplorativne analize je \"pročistiti\" dan skup podataka kako bi mogli napraviti bolji predikcijski model.\n",
        "\n",
        "Koraci čišćenja skupa podataka:\n",
        "\n",
        "1.   Brisanje redova koji sadrže missing/null values.\n",
        "2.   Brisanje identičnih redova (duplića).\n",
        "3.   Brisanje nepotrebnih stupaca.\n",
        "4.   Brisanje atributa koji su međusobno visoko korelirani.\n",
        "5.   Brisanje outlier-a."
      ]
    },
    {
      "cell_type": "markdown",
      "metadata": {
        "id": "7vzjGWtxBODb"
      },
      "source": [
        "## Upoznavanje sa skupom podataka\n",
        "\n",
        "Prije čišćenja skupa podataka, valja se upoznati sa učitanim skupom podataka (osnovne stvari poput veličine uzorka, tipove podataka, prosječna vrijednost/medijan/std.devijacija svakog atributa, provjera sadrži li tablica missing values)"
      ]
    },
    {
      "cell_type": "code",
      "metadata": {
        "colab": {
          "base_uri": "https://localhost:8080/"
        },
        "id": "UM4qRipFCGCV",
        "outputId": "26415195-992a-48e3-c557-4f8603405242"
      },
      "source": [
        "# Provjera oblika skupa podataka\n",
        "df.shape"
      ],
      "execution_count": null,
      "outputs": [
        {
          "output_type": "execute_result",
          "data": {
            "text/plain": [
              "(150000, 6)"
            ]
          },
          "metadata": {},
          "execution_count": 3
        }
      ]
    },
    {
      "cell_type": "code",
      "metadata": {
        "colab": {
          "base_uri": "https://localhost:8080/"
        },
        "id": "0UmC-eDGCGEs",
        "outputId": "86e21518-049d-4a8b-db8e-e1f06d92ccf0"
      },
      "source": [
        "# Provjera tipova podataka\n",
        "df.info()"
      ],
      "execution_count": null,
      "outputs": [
        {
          "output_type": "stream",
          "name": "stdout",
          "text": [
            "<class 'pandas.core.frame.DataFrame'>\n",
            "RangeIndex: 150000 entries, 0 to 149999\n",
            "Data columns (total 6 columns):\n",
            " #   Column   Non-Null Count   Dtype  \n",
            "---  ------   --------------   -----  \n",
            " 0   Number   150000 non-null  int64  \n",
            " 1   City     150000 non-null  object \n",
            " 2   Gender   150000 non-null  object \n",
            " 3   Age      150000 non-null  int64  \n",
            " 4   Income   150000 non-null  float64\n",
            " 5   Illness  150000 non-null  object \n",
            "dtypes: float64(1), int64(2), object(3)\n",
            "memory usage: 6.9+ MB\n"
          ]
        }
      ]
    },
    {
      "cell_type": "code",
      "metadata": {
        "colab": {
          "base_uri": "https://localhost:8080/",
          "height": 295
        },
        "id": "kcVtO9yTCGHB",
        "outputId": "59d8f499-fd8c-4a9f-b7c8-78036c863793"
      },
      "source": [
        "# Sazetak statističkih obilježja skupa podataka\n",
        "df.describe()\n",
        "# Napomena za kasnije: stupac Number nam nije bitan i možemo ga maknuti"
      ],
      "execution_count": null,
      "outputs": [
        {
          "output_type": "execute_result",
          "data": {
            "text/html": [
              "<div>\n",
              "<style scoped>\n",
              "    .dataframe tbody tr th:only-of-type {\n",
              "        vertical-align: middle;\n",
              "    }\n",
              "\n",
              "    .dataframe tbody tr th {\n",
              "        vertical-align: top;\n",
              "    }\n",
              "\n",
              "    .dataframe thead th {\n",
              "        text-align: right;\n",
              "    }\n",
              "</style>\n",
              "<table border=\"1\" class=\"dataframe\">\n",
              "  <thead>\n",
              "    <tr style=\"text-align: right;\">\n",
              "      <th></th>\n",
              "      <th>Number</th>\n",
              "      <th>Age</th>\n",
              "      <th>Income</th>\n",
              "    </tr>\n",
              "  </thead>\n",
              "  <tbody>\n",
              "    <tr>\n",
              "      <th>count</th>\n",
              "      <td>150000.000000</td>\n",
              "      <td>150000.000000</td>\n",
              "      <td>150000.000000</td>\n",
              "    </tr>\n",
              "    <tr>\n",
              "      <th>mean</th>\n",
              "      <td>75000.500000</td>\n",
              "      <td>44.950200</td>\n",
              "      <td>91252.798273</td>\n",
              "    </tr>\n",
              "    <tr>\n",
              "      <th>std</th>\n",
              "      <td>43301.414527</td>\n",
              "      <td>11.572486</td>\n",
              "      <td>24989.500948</td>\n",
              "    </tr>\n",
              "    <tr>\n",
              "      <th>min</th>\n",
              "      <td>1.000000</td>\n",
              "      <td>25.000000</td>\n",
              "      <td>-654.000000</td>\n",
              "    </tr>\n",
              "    <tr>\n",
              "      <th>25%</th>\n",
              "      <td>37500.750000</td>\n",
              "      <td>35.000000</td>\n",
              "      <td>80867.750000</td>\n",
              "    </tr>\n",
              "    <tr>\n",
              "      <th>50%</th>\n",
              "      <td>75000.500000</td>\n",
              "      <td>45.000000</td>\n",
              "      <td>93655.000000</td>\n",
              "    </tr>\n",
              "    <tr>\n",
              "      <th>75%</th>\n",
              "      <td>112500.250000</td>\n",
              "      <td>55.000000</td>\n",
              "      <td>104519.000000</td>\n",
              "    </tr>\n",
              "    <tr>\n",
              "      <th>max</th>\n",
              "      <td>150000.000000</td>\n",
              "      <td>65.000000</td>\n",
              "      <td>177157.000000</td>\n",
              "    </tr>\n",
              "  </tbody>\n",
              "</table>\n",
              "</div>"
            ],
            "text/plain": [
              "              Number            Age         Income\n",
              "count  150000.000000  150000.000000  150000.000000\n",
              "mean    75000.500000      44.950200   91252.798273\n",
              "std     43301.414527      11.572486   24989.500948\n",
              "min         1.000000      25.000000    -654.000000\n",
              "25%     37500.750000      35.000000   80867.750000\n",
              "50%     75000.500000      45.000000   93655.000000\n",
              "75%    112500.250000      55.000000  104519.000000\n",
              "max    150000.000000      65.000000  177157.000000"
            ]
          },
          "metadata": {},
          "execution_count": 5
        }
      ]
    },
    {
      "cell_type": "code",
      "metadata": {
        "colab": {
          "base_uri": "https://localhost:8080/"
        },
        "id": "5333KacEDwVd",
        "outputId": "9ee98eab-a8ef-49c2-89f2-e49f7a1def66"
      },
      "source": [
        "# Broj zdravih i broj bolesnih ljudi\n",
        "df.Illness.value_counts()"
      ],
      "execution_count": null,
      "outputs": [
        {
          "output_type": "execute_result",
          "data": {
            "text/plain": [
              "No     137861\n",
              "Yes     12139\n",
              "Name: Illness, dtype: int64"
            ]
          },
          "metadata": {},
          "execution_count": 6
        }
      ]
    },
    {
      "cell_type": "markdown",
      "metadata": {
        "id": "SqZgT-z5GD6b"
      },
      "source": [
        "## Čišćenje tablice"
      ]
    },
    {
      "cell_type": "code",
      "metadata": {
        "colab": {
          "base_uri": "https://localhost:8080/"
        },
        "id": "N1XYCFa_EsSh",
        "outputId": "79bb8af2-3ce1-4d58-f2c5-50f7ff5f913e"
      },
      "source": [
        "# Provjera postoji li missing values ili null values\n",
        "print(df.isnull().sum())"
      ],
      "execution_count": null,
      "outputs": [
        {
          "output_type": "stream",
          "name": "stdout",
          "text": [
            "Number     0\n",
            "City       0\n",
            "Gender     0\n",
            "Age        0\n",
            "Income     0\n",
            "Illness    0\n",
            "dtype: int64\n"
          ]
        }
      ]
    },
    {
      "cell_type": "code",
      "metadata": {
        "colab": {
          "base_uri": "https://localhost:8080/"
        },
        "id": "D6vFFpvhGSoB",
        "outputId": "d69d9f74-f613-49a5-8b5d-4388997252a1"
      },
      "source": [
        "# Provjera postoje li retci s identičnim podacima\n",
        "duplicate_rows_df = df[df.duplicated()]\n",
        "print(\"Broj duplića:\", duplicate_rows_df.shape)"
      ],
      "execution_count": null,
      "outputs": [
        {
          "output_type": "stream",
          "name": "stdout",
          "text": [
            "Broj duplića: (0, 6)\n"
          ]
        }
      ]
    },
    {
      "cell_type": "code",
      "metadata": {
        "colab": {
          "base_uri": "https://localhost:8080/",
          "height": 203
        },
        "id": "cdR1iqElHaPW",
        "outputId": "bd2d9cbd-8945-4983-c50a-66667309a50d"
      },
      "source": [
        "# Micanje bespotrebnih stupaca (konkretno, \"Number\" stupac)\n",
        "df = df.drop(\"Number\", axis=1)\n",
        "df.head(5)"
      ],
      "execution_count": 3,
      "outputs": [
        {
          "output_type": "execute_result",
          "data": {
            "text/html": [
              "<div>\n",
              "<style scoped>\n",
              "    .dataframe tbody tr th:only-of-type {\n",
              "        vertical-align: middle;\n",
              "    }\n",
              "\n",
              "    .dataframe tbody tr th {\n",
              "        vertical-align: top;\n",
              "    }\n",
              "\n",
              "    .dataframe thead th {\n",
              "        text-align: right;\n",
              "    }\n",
              "</style>\n",
              "<table border=\"1\" class=\"dataframe\">\n",
              "  <thead>\n",
              "    <tr style=\"text-align: right;\">\n",
              "      <th></th>\n",
              "      <th>City</th>\n",
              "      <th>Gender</th>\n",
              "      <th>Age</th>\n",
              "      <th>Income</th>\n",
              "      <th>Illness</th>\n",
              "    </tr>\n",
              "  </thead>\n",
              "  <tbody>\n",
              "    <tr>\n",
              "      <th>0</th>\n",
              "      <td>Dallas</td>\n",
              "      <td>Male</td>\n",
              "      <td>41</td>\n",
              "      <td>40367.0</td>\n",
              "      <td>No</td>\n",
              "    </tr>\n",
              "    <tr>\n",
              "      <th>1</th>\n",
              "      <td>Dallas</td>\n",
              "      <td>Male</td>\n",
              "      <td>54</td>\n",
              "      <td>45084.0</td>\n",
              "      <td>No</td>\n",
              "    </tr>\n",
              "    <tr>\n",
              "      <th>2</th>\n",
              "      <td>Dallas</td>\n",
              "      <td>Male</td>\n",
              "      <td>42</td>\n",
              "      <td>52483.0</td>\n",
              "      <td>No</td>\n",
              "    </tr>\n",
              "    <tr>\n",
              "      <th>3</th>\n",
              "      <td>Dallas</td>\n",
              "      <td>Male</td>\n",
              "      <td>40</td>\n",
              "      <td>40941.0</td>\n",
              "      <td>No</td>\n",
              "    </tr>\n",
              "    <tr>\n",
              "      <th>4</th>\n",
              "      <td>Dallas</td>\n",
              "      <td>Male</td>\n",
              "      <td>46</td>\n",
              "      <td>50289.0</td>\n",
              "      <td>No</td>\n",
              "    </tr>\n",
              "  </tbody>\n",
              "</table>\n",
              "</div>"
            ],
            "text/plain": [
              "     City Gender  Age   Income Illness\n",
              "0  Dallas   Male   41  40367.0      No\n",
              "1  Dallas   Male   54  45084.0      No\n",
              "2  Dallas   Male   42  52483.0      No\n",
              "3  Dallas   Male   40  40941.0      No\n",
              "4  Dallas   Male   46  50289.0      No"
            ]
          },
          "metadata": {},
          "execution_count": 3
        }
      ]
    },
    {
      "cell_type": "markdown",
      "metadata": {
        "id": "a_cPKbQzIVAE"
      },
      "source": [
        "## Upoznajmo dan skup podataka kroz par grafova\n",
        "\n",
        "### Pogledajmo distribuciju svakih od atributa u odnosu na ciljni atribut `bolest`."
      ]
    },
    {
      "cell_type": "markdown",
      "metadata": {
        "id": "stMxsevmNn_S"
      },
      "source": [
        "Počnimo s jednostavnim grafom koji prikazuje frekvenciju zdravih i bolesnih osoba, kako bi otprilike vidjeli njihov omjer."
      ]
    },
    {
      "cell_type": "code",
      "metadata": {
        "colab": {
          "base_uri": "https://localhost:8080/",
          "height": 301
        },
        "id": "U32gH4-KIdYa",
        "outputId": "b4e046a3-34a6-4ce7-9c0f-c075f38258a2"
      },
      "source": [
        "fig = plt.figure()\n",
        "ax = fig.add_subplot(1,1,1)\n",
        "sns.countplot(x=\"Illness\", palette=\"rocket\", data=df)\n",
        "plt.xlabel('zdravi/bolesni')\n",
        "plt.title(\"Broj zdravih i bolesnih osoba\")\n",
        "plt.show()"
      ],
      "execution_count": null,
      "outputs": [
        {
          "output_type": "display_data",
          "data": {
            "image/png": "[encoded data removed]",
            "text/plain": [
              "<Figure size 432x288 with 1 Axes>"
            ]
          },
          "metadata": {
            "needs_background": "light"
          }
        }
      ]
    },
    {
      "cell_type": "markdown",
      "metadata": {
        "id": "p7rvo1AGNxc-"
      },
      "source": [
        "Pogledajmo ima li `spol` utjecaja na to je li osoba zdrava ili bolesna."
      ]
    },
    {
      "cell_type": "code",
      "metadata": {
        "colab": {
          "base_uri": "https://localhost:8080/",
          "height": 301
        },
        "id": "wihChaxIIda7",
        "outputId": "a7351a42-197a-4636-9b8d-c018019a2ce3"
      },
      "source": [
        "fig = plt.figure()\n",
        "ax = fig.add_subplot(1,1,1)\n",
        "sns.countplot(x=\"Gender\",hue='Illness', palette=\"rocket\", data=df)\n",
        "plt.xlabel('Spol')\n",
        "plt.title(\"Broj zdravih i bolesnih osoba po spolu\")\n",
        "plt.legend(loc='best',ncol=2)\n",
        "plt.show()"
      ],
      "execution_count": null,
      "outputs": [
        {
          "output_type": "display_data",
          "data": {
            "image/png": "[encoded data removed]",
            "text/plain": [
              "<Figure size 432x288 with 1 Axes>"
            ]
          },
          "metadata": {
            "needs_background": "light"
          }
        }
      ]
    },
    {
      "cell_type": "markdown",
      "metadata": {
        "id": "NMqayJNZN5PS"
      },
      "source": [
        "***Zaključak***\n",
        "\n",
        "Omjer zdravih i bolesnih se čini podjednak za svaki `spol`, pa taj atribut nebi trebao imati veliki utjecaj na `bolest`."
      ]
    },
    {
      "cell_type": "markdown",
      "metadata": {
        "id": "S20VL78VNcKV"
      },
      "source": [
        "Pogledajmo ima li mjesto boravka `grad` utjecaj na to je li osoba zdrava ili ne."
      ]
    },
    {
      "cell_type": "code",
      "metadata": {
        "colab": {
          "base_uri": "https://localhost:8080/",
          "height": 394
        },
        "id": "uzsMYto6K64x",
        "outputId": "faface3a-ee55-46e2-8cbc-6fd1fd99ab72"
      },
      "source": [
        "fig = plt.figure(figsize=(12,6))\n",
        "ax = fig.add_subplot(1,1,1)\n",
        "sns.countplot(x=\"City\",hue='Illness', palette=\"rocket\", data=df)\n",
        "plt.legend(loc='best',ncol=2)\n",
        "plt.show()"
      ],
      "execution_count": null,
      "outputs": [
        {
          "output_type": "display_data",
          "data": {
            "image/png": "[encoded data removed]",
            "text/plain": [
              "<Figure size 864x432 with 1 Axes>"
            ]
          },
          "metadata": {
            "needs_background": "light"
          }
        }
      ]
    },
    {
      "cell_type": "markdown",
      "metadata": {
        "id": "reA732VuNhdh"
      },
      "source": [
        "***Zaključak***\n",
        "\n",
        "Isti kao i iznad. Atribut `grad` nebi trebao imati značajan utjecaj na `bolest`."
      ]
    },
    {
      "cell_type": "markdown",
      "metadata": {
        "id": "pZSB5yPYMRca"
      },
      "source": [
        "Nekako smo mogli i prije pretpostaviti da spol i mjesto boravka neće imati značajan utjecaj na bolest svake osobe. Nameće nam se logički da bi utjecaj mogli imati atributi poput `starost` (Age) i `zarada` (Income).\n",
        "\n",
        "Pogledajmo grafove za spomenute atribute."
      ]
    },
    {
      "cell_type": "code",
      "metadata": {
        "colab": {
          "base_uri": "https://localhost:8080/",
          "height": 410
        },
        "id": "B6UEMLArNUDj",
        "outputId": "19fd7040-90b3-4275-f146-6956d32a3c88"
      },
      "source": [
        "fig = plt.figure(figsize=(18,6))\n",
        "ax = fig.add_subplot(1,1,1)\n",
        "sns.countplot(x=\"Age\",hue='Illness', palette=\"rocket\", data=df)\n",
        "plt.xlabel('Starost')\n",
        "plt.title(\"Broj zdravih i bolesnih osoba po starosti\")\n",
        "plt.legend(loc='best',ncol=2)\n",
        "plt.show()"
      ],
      "execution_count": null,
      "outputs": [
        {
          "output_type": "display_data",
          "data": {
            "image/png": "[encoded data removed]",
            "text/plain": [
              "<Figure size 1296x432 with 1 Axes>"
            ]
          },
          "metadata": {
            "needs_background": "light"
          }
        }
      ]
    },
    {
      "cell_type": "markdown",
      "metadata": {
        "id": "tZUk-EPgTaE_"
      },
      "source": [
        "***Zaključak***\n",
        "\n",
        "Možda i nečekivano, atribut `starost` nema nekakav značajan utjecaj na `bolest`."
      ]
    },
    {
      "cell_type": "markdown",
      "metadata": {
        "id": "bvuMXm8mTj_e"
      },
      "source": [
        "Pogledajmo distribuciju `zarada` za zdrave i za bolesne osobe."
      ]
    },
    {
      "cell_type": "code",
      "metadata": {
        "colab": {
          "base_uri": "https://localhost:8080/",
          "height": 446
        },
        "id": "txq4bHUyUHzs",
        "outputId": "d729ce60-cf51-4537-fe0b-ade609c6bc33"
      },
      "source": [
        "plt.figure(figsize=(10,5))\n",
        "sns.distplot(df[df[\"Illness\"] == \"No\"][\"Income\"], color=\"y\")\n",
        "sns.distplot(df[df[\"Illness\"] == \"Yes\"][\"Income\"], color=\"g\")\n",
        "fig.legend(labels=['No', 'Yes'])\n",
        "plt.title(\"Distribucija zarade za zdrave i bolesne osobe\")\n",
        "plt.show()"
      ],
      "execution_count": null,
      "outputs": [
        {
          "output_type": "stream",
          "name": "stderr",
          "text": [
            "/usr/local/lib/python3.7/dist-packages/seaborn/distributions.py:2619: FutureWarning: `distplot` is a deprecated function and will be removed in a future version. Please adapt your code to use either `displot` (a figure-level function with similar flexibility) or `histplot` (an axes-level function for histograms).\n",
            "  warnings.warn(msg, FutureWarning)\n",
            "/usr/local/lib/python3.7/dist-packages/seaborn/distributions.py:2619: FutureWarning: `distplot` is a deprecated function and will be removed in a future version. Please adapt your code to use either `displot` (a figure-level function with similar flexibility) or `histplot` (an axes-level function for histograms).\n",
            "  warnings.warn(msg, FutureWarning)\n"
          ]
        },
        {
          "output_type": "display_data",
          "data": {
            "image/png": "[encoded data removed]",
            "text/plain": [
              "<Figure size 720x360 with 1 Axes>"
            ]
          },
          "metadata": {
            "needs_background": "light"
          }
        }
      ]
    },
    {
      "cell_type": "markdown",
      "metadata": {
        "id": "-J8zhyaCUfyU"
      },
      "source": [
        "***Zaključak***\n",
        "\n",
        "Grafovi su poprilično podjednaki, pa bi mogli zaključiti kako ni `zarada` nema nekakav značajan utjecaj na `bolest`."
      ]
    },
    {
      "cell_type": "code",
      "metadata": {
        "colab": {
          "base_uri": "https://localhost:8080/",
          "height": 203
        },
        "id": "P0iHSPitWBjH",
        "outputId": "a7139a3a-f7df-4d65-b472-55c8a836bc6c"
      },
      "source": [
        "df.head(5)"
      ],
      "execution_count": null,
      "outputs": [
        {
          "output_type": "execute_result",
          "data": {
            "text/html": [
              "<div>\n",
              "<style scoped>\n",
              "    .dataframe tbody tr th:only-of-type {\n",
              "        vertical-align: middle;\n",
              "    }\n",
              "\n",
              "    .dataframe tbody tr th {\n",
              "        vertical-align: top;\n",
              "    }\n",
              "\n",
              "    .dataframe thead th {\n",
              "        text-align: right;\n",
              "    }\n",
              "</style>\n",
              "<table border=\"1\" class=\"dataframe\">\n",
              "  <thead>\n",
              "    <tr style=\"text-align: right;\">\n",
              "      <th></th>\n",
              "      <th>City</th>\n",
              "      <th>Gender</th>\n",
              "      <th>Age</th>\n",
              "      <th>Income</th>\n",
              "      <th>Illness</th>\n",
              "    </tr>\n",
              "  </thead>\n",
              "  <tbody>\n",
              "    <tr>\n",
              "      <th>0</th>\n",
              "      <td>Dallas</td>\n",
              "      <td>Male</td>\n",
              "      <td>41</td>\n",
              "      <td>40367.0</td>\n",
              "      <td>No</td>\n",
              "    </tr>\n",
              "    <tr>\n",
              "      <th>1</th>\n",
              "      <td>Dallas</td>\n",
              "      <td>Male</td>\n",
              "      <td>54</td>\n",
              "      <td>45084.0</td>\n",
              "      <td>No</td>\n",
              "    </tr>\n",
              "    <tr>\n",
              "      <th>2</th>\n",
              "      <td>Dallas</td>\n",
              "      <td>Male</td>\n",
              "      <td>42</td>\n",
              "      <td>52483.0</td>\n",
              "      <td>No</td>\n",
              "    </tr>\n",
              "    <tr>\n",
              "      <th>3</th>\n",
              "      <td>Dallas</td>\n",
              "      <td>Male</td>\n",
              "      <td>40</td>\n",
              "      <td>40941.0</td>\n",
              "      <td>No</td>\n",
              "    </tr>\n",
              "    <tr>\n",
              "      <th>4</th>\n",
              "      <td>Dallas</td>\n",
              "      <td>Male</td>\n",
              "      <td>46</td>\n",
              "      <td>50289.0</td>\n",
              "      <td>No</td>\n",
              "    </tr>\n",
              "  </tbody>\n",
              "</table>\n",
              "</div>"
            ],
            "text/plain": [
              "     City Gender  Age   Income Illness\n",
              "0  Dallas   Male   41  40367.0      No\n",
              "1  Dallas   Male   54  45084.0      No\n",
              "2  Dallas   Male   42  52483.0      No\n",
              "3  Dallas   Male   40  40941.0      No\n",
              "4  Dallas   Male   46  50289.0      No"
            ]
          },
          "metadata": {},
          "execution_count": 15
        }
      ]
    },
    {
      "cell_type": "markdown",
      "metadata": {
        "id": "cnnQivEeYUyN"
      },
      "source": [
        "## Provjera outliera u skupu podataka\n",
        "\n",
        "Želimo li dobiti što bolji ML model, potrebno je maknuti outlier podatke. Možemo ih vidjeti box plot-om."
      ]
    },
    {
      "cell_type": "code",
      "metadata": {
        "colab": {
          "base_uri": "https://localhost:8080/",
          "height": 302
        },
        "id": "UiWA8sFGbIMc",
        "outputId": "d769328c-baba-4e26-9e8d-8e29c69e2f2e"
      },
      "source": [
        "sns.boxplot(x=df['Age'])"
      ],
      "execution_count": null,
      "outputs": [
        {
          "output_type": "execute_result",
          "data": {
            "text/plain": [
              "<matplotlib.axes._subplots.AxesSubplot at 0x7faa62caa510>"
            ]
          },
          "metadata": {},
          "execution_count": 16
        },
        {
          "output_type": "display_data",
          "data": {
            "image/png": "[encoded data removed]",
            "text/plain": [
              "<Figure size 432x288 with 1 Axes>"
            ]
          },
          "metadata": {
            "needs_background": "light"
          }
        }
      ]
    },
    {
      "cell_type": "code",
      "metadata": {
        "colab": {
          "base_uri": "https://localhost:8080/",
          "height": 302
        },
        "id": "3eJBu00hY7wc",
        "outputId": "233cc54e-fddb-4b8f-f955-17775b8b3704"
      },
      "source": [
        "sns.boxplot(x=df['Income'])"
      ],
      "execution_count": null,
      "outputs": [
        {
          "output_type": "execute_result",
          "data": {
            "text/plain": [
              "<matplotlib.axes._subplots.AxesSubplot at 0x7faa62c72790>"
            ]
          },
          "metadata": {},
          "execution_count": 17
        },
        {
          "output_type": "display_data",
          "data": {
            "image/png": "[encoded data removed]",
            "text/plain": [
              "<Figure size 432x288 with 1 Axes>"
            ]
          },
          "metadata": {
            "needs_background": "light"
          }
        }
      ]
    },
    {
      "cell_type": "markdown",
      "metadata": {
        "id": "ygUrC29bZZkB"
      },
      "source": [
        "Vidimo outlier točke u kategoriji `zarada` (imamo čak i negativnu zaradu). Maknimo te točke koristeći IQR-score tehniku."
      ]
    },
    {
      "cell_type": "code",
      "metadata": {
        "colab": {
          "base_uri": "https://localhost:8080/"
        },
        "id": "zXqUXiFQZUPy",
        "outputId": "73294db2-634e-41ec-8e9c-66a63409deea"
      },
      "source": [
        "Q1 = df.quantile(0.25)\n",
        "Q3 = df.quantile(0.75)\n",
        "IQR = Q3 - Q1\n",
        "print(IQR)"
      ],
      "execution_count": 4,
      "outputs": [
        {
          "output_type": "stream",
          "name": "stdout",
          "text": [
            "Age          20.00\n",
            "Income    23651.25\n",
            "dtype: float64\n"
          ]
        }
      ]
    },
    {
      "cell_type": "code",
      "metadata": {
        "colab": {
          "base_uri": "https://localhost:8080/"
        },
        "id": "6oKwq83LY7yu",
        "outputId": "b0d40b08-7e49-4e72-f785-776ad14fc77d"
      },
      "source": [
        "df = df[~((df < (Q1 - 1.5 * IQR)) |(df > (Q3 + 1.5 * IQR))).any(axis=1)]\n",
        "df.shape"
      ],
      "execution_count": 5,
      "outputs": [
        {
          "output_type": "execute_result",
          "data": {
            "text/plain": [
              "(135217, 5)"
            ]
          },
          "metadata": {},
          "execution_count": 5
        }
      ]
    },
    {
      "cell_type": "markdown",
      "metadata": {
        "id": "zf55mVWibmcY"
      },
      "source": [
        "Kao što možemo vidjeti, pročistili smo tablicu tako da smo sa 150 000 primjeraka pali na 135 217, dakle otprilike 15 000 primjeraka su bili outlieri. Moguće je da ih imamo još, ali njihov broj je zanemariv u odnosu na broj koje smo izbrisali.\n",
        "\n",
        "Pogledajmo sada box-plot od `zarada`."
      ]
    },
    {
      "cell_type": "code",
      "metadata": {
        "colab": {
          "base_uri": "https://localhost:8080/",
          "height": 302
        },
        "id": "6PsLcVEoY71B",
        "outputId": "aa55435d-ab6d-4f3a-8280-1f5c13e15564"
      },
      "source": [
        "sns.boxplot(x=df['Income'])"
      ],
      "execution_count": 6,
      "outputs": [
        {
          "output_type": "execute_result",
          "data": {
            "text/plain": [
              "<matplotlib.axes._subplots.AxesSubplot at 0x7fb9b19a21d0>"
            ]
          },
          "metadata": {},
          "execution_count": 6
        },
        {
          "output_type": "display_data",
          "data": {
            "image/png": "[encoded data removed]",
            "text/plain": [
              "<Figure size 432x288 with 1 Axes>"
            ]
          },
          "metadata": {
            "needs_background": "light"
          }
        }
      ]
    },
    {
      "cell_type": "markdown",
      "metadata": {
        "id": "ecZzRmApcPun"
      },
      "source": [
        "Možemo vidjeti da smo veliku većinu outliera maknuli iz skupa podataka."
      ]
    },
    {
      "cell_type": "markdown",
      "metadata": {
        "id": "e-HFAOtka0w4"
      },
      "source": [
        "## Obrada podataka (one-hot encodanje)\n",
        "Prije računanja matrice korelacije među podacima, potrebno je numerirati sve podatke.\n",
        "\n",
        "Sve kategorijske atribute poput `spol` i `grad` ćemo one-hot encodati."
      ]
    },
    {
      "cell_type": "markdown",
      "metadata": {
        "id": "MC1P2pthjCvi"
      },
      "source": [
        "### One-hot encodanje podataka"
      ]
    },
    {
      "cell_type": "code",
      "metadata": {
        "colab": {
          "base_uri": "https://localhost:8080/",
          "height": 203
        },
        "id": "Q6m2uIVQhZ3l",
        "outputId": "a69dd822-f717-42c5-860a-206b1894596f"
      },
      "source": [
        "df.head()"
      ],
      "execution_count": 7,
      "outputs": [
        {
          "output_type": "execute_result",
          "data": {
            "text/html": [
              "<div>\n",
              "<style scoped>\n",
              "    .dataframe tbody tr th:only-of-type {\n",
              "        vertical-align: middle;\n",
              "    }\n",
              "\n",
              "    .dataframe tbody tr th {\n",
              "        vertical-align: top;\n",
              "    }\n",
              "\n",
              "    .dataframe thead th {\n",
              "        text-align: right;\n",
              "    }\n",
              "</style>\n",
              "<table border=\"1\" class=\"dataframe\">\n",
              "  <thead>\n",
              "    <tr style=\"text-align: right;\">\n",
              "      <th></th>\n",
              "      <th>City</th>\n",
              "      <th>Gender</th>\n",
              "      <th>Age</th>\n",
              "      <th>Income</th>\n",
              "      <th>Illness</th>\n",
              "    </tr>\n",
              "  </thead>\n",
              "  <tbody>\n",
              "    <tr>\n",
              "      <th>2</th>\n",
              "      <td>Dallas</td>\n",
              "      <td>Male</td>\n",
              "      <td>42</td>\n",
              "      <td>52483.0</td>\n",
              "      <td>No</td>\n",
              "    </tr>\n",
              "    <tr>\n",
              "      <th>4</th>\n",
              "      <td>Dallas</td>\n",
              "      <td>Male</td>\n",
              "      <td>46</td>\n",
              "      <td>50289.0</td>\n",
              "      <td>No</td>\n",
              "    </tr>\n",
              "    <tr>\n",
              "      <th>5</th>\n",
              "      <td>Dallas</td>\n",
              "      <td>Female</td>\n",
              "      <td>36</td>\n",
              "      <td>50786.0</td>\n",
              "      <td>No</td>\n",
              "    </tr>\n",
              "    <tr>\n",
              "      <th>8</th>\n",
              "      <td>Dallas</td>\n",
              "      <td>Male</td>\n",
              "      <td>51</td>\n",
              "      <td>68667.0</td>\n",
              "      <td>No</td>\n",
              "    </tr>\n",
              "    <tr>\n",
              "      <th>9</th>\n",
              "      <td>Dallas</td>\n",
              "      <td>Female</td>\n",
              "      <td>30</td>\n",
              "      <td>50082.0</td>\n",
              "      <td>No</td>\n",
              "    </tr>\n",
              "  </tbody>\n",
              "</table>\n",
              "</div>"
            ],
            "text/plain": [
              "     City  Gender  Age   Income Illness\n",
              "2  Dallas    Male   42  52483.0      No\n",
              "4  Dallas    Male   46  50289.0      No\n",
              "5  Dallas  Female   36  50786.0      No\n",
              "8  Dallas    Male   51  68667.0      No\n",
              "9  Dallas  Female   30  50082.0      No"
            ]
          },
          "metadata": {},
          "execution_count": 7
        }
      ]
    },
    {
      "cell_type": "code",
      "metadata": {
        "colab": {
          "base_uri": "https://localhost:8080/",
          "height": 257
        },
        "id": "1P_uTdCji0mm",
        "outputId": "8d303281-c74a-4214-fe14-b110a9df675e"
      },
      "source": [
        "data_one_hot = pd.get_dummies(df)\n",
        "data_one_hot.head()"
      ],
      "execution_count": null,
      "outputs": [
        {
          "output_type": "execute_result",
          "data": {
            "text/html": [
              "<div>\n",
              "<style scoped>\n",
              "    .dataframe tbody tr th:only-of-type {\n",
              "        vertical-align: middle;\n",
              "    }\n",
              "\n",
              "    .dataframe tbody tr th {\n",
              "        vertical-align: top;\n",
              "    }\n",
              "\n",
              "    .dataframe thead th {\n",
              "        text-align: right;\n",
              "    }\n",
              "</style>\n",
              "<table border=\"1\" class=\"dataframe\">\n",
              "  <thead>\n",
              "    <tr style=\"text-align: right;\">\n",
              "      <th></th>\n",
              "      <th>Age</th>\n",
              "      <th>Income</th>\n",
              "      <th>City_Austin</th>\n",
              "      <th>City_Boston</th>\n",
              "      <th>City_Dallas</th>\n",
              "      <th>City_Los Angeles</th>\n",
              "      <th>City_Mountain View</th>\n",
              "      <th>City_New York City</th>\n",
              "      <th>City_San Diego</th>\n",
              "      <th>City_Washington D.C.</th>\n",
              "      <th>Gender_Female</th>\n",
              "      <th>Gender_Male</th>\n",
              "      <th>Illness_No</th>\n",
              "      <th>Illness_Yes</th>\n",
              "    </tr>\n",
              "  </thead>\n",
              "  <tbody>\n",
              "    <tr>\n",
              "      <th>2</th>\n",
              "      <td>42</td>\n",
              "      <td>52483.0</td>\n",
              "      <td>0</td>\n",
              "      <td>0</td>\n",
              "      <td>1</td>\n",
              "      <td>0</td>\n",
              "      <td>0</td>\n",
              "      <td>0</td>\n",
              "      <td>0</td>\n",
              "      <td>0</td>\n",
              "      <td>0</td>\n",
              "      <td>1</td>\n",
              "      <td>1</td>\n",
              "      <td>0</td>\n",
              "    </tr>\n",
              "    <tr>\n",
              "      <th>4</th>\n",
              "      <td>46</td>\n",
              "      <td>50289.0</td>\n",
              "      <td>0</td>\n",
              "      <td>0</td>\n",
              "      <td>1</td>\n",
              "      <td>0</td>\n",
              "      <td>0</td>\n",
              "      <td>0</td>\n",
              "      <td>0</td>\n",
              "      <td>0</td>\n",
              "      <td>0</td>\n",
              "      <td>1</td>\n",
              "      <td>1</td>\n",
              "      <td>0</td>\n",
              "    </tr>\n",
              "    <tr>\n",
              "      <th>5</th>\n",
              "      <td>36</td>\n",
              "      <td>50786.0</td>\n",
              "      <td>0</td>\n",
              "      <td>0</td>\n",
              "      <td>1</td>\n",
              "      <td>0</td>\n",
              "      <td>0</td>\n",
              "      <td>0</td>\n",
              "      <td>0</td>\n",
              "      <td>0</td>\n",
              "      <td>1</td>\n",
              "      <td>0</td>\n",
              "      <td>1</td>\n",
              "      <td>0</td>\n",
              "    </tr>\n",
              "    <tr>\n",
              "      <th>8</th>\n",
              "      <td>51</td>\n",
              "      <td>68667.0</td>\n",
              "      <td>0</td>\n",
              "      <td>0</td>\n",
              "      <td>1</td>\n",
              "      <td>0</td>\n",
              "      <td>0</td>\n",
              "      <td>0</td>\n",
              "      <td>0</td>\n",
              "      <td>0</td>\n",
              "      <td>0</td>\n",
              "      <td>1</td>\n",
              "      <td>1</td>\n",
              "      <td>0</td>\n",
              "    </tr>\n",
              "    <tr>\n",
              "      <th>9</th>\n",
              "      <td>30</td>\n",
              "      <td>50082.0</td>\n",
              "      <td>0</td>\n",
              "      <td>0</td>\n",
              "      <td>1</td>\n",
              "      <td>0</td>\n",
              "      <td>0</td>\n",
              "      <td>0</td>\n",
              "      <td>0</td>\n",
              "      <td>0</td>\n",
              "      <td>1</td>\n",
              "      <td>0</td>\n",
              "      <td>1</td>\n",
              "      <td>0</td>\n",
              "    </tr>\n",
              "  </tbody>\n",
              "</table>\n",
              "</div>"
            ],
            "text/plain": [
              "   Age   Income  City_Austin  ...  Gender_Male  Illness_No  Illness_Yes\n",
              "2   42  52483.0            0  ...            1           1            0\n",
              "4   46  50289.0            0  ...            1           1            0\n",
              "5   36  50786.0            0  ...            0           1            0\n",
              "8   51  68667.0            0  ...            1           1            0\n",
              "9   30  50082.0            0  ...            0           1            0\n",
              "\n",
              "[5 rows x 14 columns]"
            ]
          },
          "metadata": {},
          "execution_count": 22
        }
      ]
    },
    {
      "cell_type": "markdown",
      "metadata": {
        "id": "oNR2DwF6UyYV"
      },
      "source": [
        "### Korelacija među atributima\n",
        "\n",
        "Pogledajmo postoji li nekakva značajna korelacija među atributima.\n",
        "\n",
        "Mogli bi računati ručno korelaciju između svih atributa, ali najpraktičnije je izračunati korelacijsku matricu funkcijom `.corr()` i vizualizirati je funkcijom `heatmap`."
      ]
    },
    {
      "cell_type": "code",
      "metadata": {
        "colab": {
          "base_uri": "https://localhost:8080/",
          "height": 695
        },
        "id": "hVIy2UrKVW5f",
        "outputId": "978d37aa-276b-4536-9802-0c8e73892eda"
      },
      "source": [
        "plt.figure(figsize=(20,10))\n",
        "c = data_one_hot.corr()\n",
        "sns.heatmap(c, annot=True, cmap='viridis')"
      ],
      "execution_count": null,
      "outputs": [
        {
          "output_type": "execute_result",
          "data": {
            "text/plain": [
              "<matplotlib.axes._subplots.AxesSubplot at 0x7faa62b67610>"
            ]
          },
          "metadata": {},
          "execution_count": 23
        },
        {
          "output_type": "display_data",
          "data": {
            "image/png": "[encoded data removed]",
            "text/plain": [
              "<Figure size 1440x720 with 2 Axes>"
            ]
          },
          "metadata": {
            "needs_background": "light"
          }
        }
      ]
    },
    {
      "cell_type": "markdown",
      "metadata": {
        "id": "fvopgafXkOfS"
      },
      "source": [
        "Ne treba gledati korelaciju između iste vrste podataka (primjerice, međusobnu korelaciju gradova ili spola), takva matrica je rezultat one-hod encodanja tablice podataka.\n",
        "\n",
        "Jedini zapažljivi rezultati su umjerena pozitivna korelacija između grada Mountain View i zarade, te umjerena negativna korelacija između grada Dallas i zarade (ne moramo ih micati iz skupa podataka).\n",
        "\n",
        "Najbitni rezultat je ustvari korelacija ciljnih atributa Illness_No (zdrava osoba) i Illness_Yes(bolesna osoba) sa ostalim atributima, jer su sve vrijednosti blizu 0. Matrica korelacije pokazuje kako niti jedan atribut ne utječe značajno na to je li osoba zdrava ili bolesna (što smo otprilike i zaključili kada smo gledali grafove ranije)."
      ]
    },
    {
      "cell_type": "markdown",
      "metadata": {
        "id": "IG2WJfbFsoPx"
      },
      "source": [
        "***Zaključak***\n",
        "\n",
        "Niti jedan od atributa nije zasebno dobar predikcijski atribut za output `bolest`. Ali, dobar predikcijski atribut ne mora biti onaj koji je koreliran sa ciljnim atributom (korelacija pokazuje samo postoji li nekakav linearan odnos između varijabli, ali ne i njihov utjecaj na ostale varijable). Možemo imati slučaj da varijable zasebno nisu korelirane s ciljnim atributom, ali čija kombinacija jest korelirana s ciljnim atributom."
      ]
    },
    {
      "cell_type": "markdown",
      "metadata": {
        "id": "h4WFIPtJYZuH"
      },
      "source": [
        "### Postavlja se pitanje: kako napraviti klasifikator u tom slučaju? Varijable ne ukazuju na nekakvu linearnu vezu (ili bolje rečeno logističku vezu jer radimo s kategorijskim outputom). Možda će neki modeli otkriti nevidljivu vezu među varijablama kao što su slučajne šume i duboki modeli."
      ]
    },
    {
      "cell_type": "markdown",
      "metadata": {
        "id": "QGFyc-owdDAO"
      },
      "source": [
        "## Obrada podataka 2. (normalizacija, razdvajanje na skup za treniranje i skup za testiranje)"
      ]
    },
    {
      "cell_type": "markdown",
      "metadata": {
        "id": "uOR9x8WMZa_A"
      },
      "source": [
        "Nastavljamo s datasetom df koji nije one-hot encodan i normaliziran. Želimo ga normalizirati jer od skupova podataka s takvim skaliranim vrijednostima dobivamo bolje modele (npr. duboki modeli se treniraju bolje s normaliziranim podacima)."
      ]
    },
    {
      "cell_type": "code",
      "metadata": {
        "colab": {
          "base_uri": "https://localhost:8080/",
          "height": 203
        },
        "id": "qnt4h-osdKnr",
        "outputId": "808cc5a9-5cd1-4efe-92a6-03c3cbcdc248"
      },
      "source": [
        "import pandas as pd\n",
        "import matplotlib.pyplot as plt\n",
        "import tensorflow as tf\n",
        "df.head(5)"
      ],
      "execution_count": 8,
      "outputs": [
        {
          "output_type": "execute_result",
          "data": {
            "text/html": [
              "<div>\n",
              "<style scoped>\n",
              "    .dataframe tbody tr th:only-of-type {\n",
              "        vertical-align: middle;\n",
              "    }\n",
              "\n",
              "    .dataframe tbody tr th {\n",
              "        vertical-align: top;\n",
              "    }\n",
              "\n",
              "    .dataframe thead th {\n",
              "        text-align: right;\n",
              "    }\n",
              "</style>\n",
              "<table border=\"1\" class=\"dataframe\">\n",
              "  <thead>\n",
              "    <tr style=\"text-align: right;\">\n",
              "      <th></th>\n",
              "      <th>City</th>\n",
              "      <th>Gender</th>\n",
              "      <th>Age</th>\n",
              "      <th>Income</th>\n",
              "      <th>Illness</th>\n",
              "    </tr>\n",
              "  </thead>\n",
              "  <tbody>\n",
              "    <tr>\n",
              "      <th>2</th>\n",
              "      <td>Dallas</td>\n",
              "      <td>Male</td>\n",
              "      <td>42</td>\n",
              "      <td>52483.0</td>\n",
              "      <td>No</td>\n",
              "    </tr>\n",
              "    <tr>\n",
              "      <th>4</th>\n",
              "      <td>Dallas</td>\n",
              "      <td>Male</td>\n",
              "      <td>46</td>\n",
              "      <td>50289.0</td>\n",
              "      <td>No</td>\n",
              "    </tr>\n",
              "    <tr>\n",
              "      <th>5</th>\n",
              "      <td>Dallas</td>\n",
              "      <td>Female</td>\n",
              "      <td>36</td>\n",
              "      <td>50786.0</td>\n",
              "      <td>No</td>\n",
              "    </tr>\n",
              "    <tr>\n",
              "      <th>8</th>\n",
              "      <td>Dallas</td>\n",
              "      <td>Male</td>\n",
              "      <td>51</td>\n",
              "      <td>68667.0</td>\n",
              "      <td>No</td>\n",
              "    </tr>\n",
              "    <tr>\n",
              "      <th>9</th>\n",
              "      <td>Dallas</td>\n",
              "      <td>Female</td>\n",
              "      <td>30</td>\n",
              "      <td>50082.0</td>\n",
              "      <td>No</td>\n",
              "    </tr>\n",
              "  </tbody>\n",
              "</table>\n",
              "</div>"
            ],
            "text/plain": [
              "     City  Gender  Age   Income Illness\n",
              "2  Dallas    Male   42  52483.0      No\n",
              "4  Dallas    Male   46  50289.0      No\n",
              "5  Dallas  Female   36  50786.0      No\n",
              "8  Dallas    Male   51  68667.0      No\n",
              "9  Dallas  Female   30  50082.0      No"
            ]
          },
          "metadata": {},
          "execution_count": 8
        }
      ]
    },
    {
      "cell_type": "code",
      "metadata": {
        "colab": {
          "base_uri": "https://localhost:8080/",
          "height": 417
        },
        "id": "ZzEoIQdxf-H-",
        "outputId": "50f68652-780f-4aba-f1ae-4421f5d43568"
      },
      "source": [
        "X_train"
      ],
      "execution_count": 13,
      "outputs": [
        {
          "output_type": "execute_result",
          "data": {
            "text/html": [
              "<div>\n",
              "<style scoped>\n",
              "    .dataframe tbody tr th:only-of-type {\n",
              "        vertical-align: middle;\n",
              "    }\n",
              "\n",
              "    .dataframe tbody tr th {\n",
              "        vertical-align: top;\n",
              "    }\n",
              "\n",
              "    .dataframe thead th {\n",
              "        text-align: right;\n",
              "    }\n",
              "</style>\n",
              "<table border=\"1\" class=\"dataframe\">\n",
              "  <thead>\n",
              "    <tr style=\"text-align: right;\">\n",
              "      <th></th>\n",
              "      <th>City</th>\n",
              "      <th>Gender</th>\n",
              "      <th>Age</th>\n",
              "      <th>Income</th>\n",
              "    </tr>\n",
              "  </thead>\n",
              "  <tbody>\n",
              "    <tr>\n",
              "      <th>57023</th>\n",
              "      <td>New York City</td>\n",
              "      <td>Female</td>\n",
              "      <td>47</td>\n",
              "      <td>102622.0</td>\n",
              "    </tr>\n",
              "    <tr>\n",
              "      <th>139875</th>\n",
              "      <td>Austin</td>\n",
              "      <td>Male</td>\n",
              "      <td>33</td>\n",
              "      <td>83817.0</td>\n",
              "    </tr>\n",
              "    <tr>\n",
              "      <th>134221</th>\n",
              "      <td>San Diego</td>\n",
              "      <td>Male</td>\n",
              "      <td>47</td>\n",
              "      <td>100865.0</td>\n",
              "    </tr>\n",
              "    <tr>\n",
              "      <th>31145</th>\n",
              "      <td>New York City</td>\n",
              "      <td>Female</td>\n",
              "      <td>35</td>\n",
              "      <td>68442.0</td>\n",
              "    </tr>\n",
              "    <tr>\n",
              "      <th>133974</th>\n",
              "      <td>San Diego</td>\n",
              "      <td>Female</td>\n",
              "      <td>63</td>\n",
              "      <td>120262.0</td>\n",
              "    </tr>\n",
              "    <tr>\n",
              "      <th>...</th>\n",
              "      <td>...</td>\n",
              "      <td>...</td>\n",
              "      <td>...</td>\n",
              "      <td>...</td>\n",
              "    </tr>\n",
              "    <tr>\n",
              "      <th>124960</th>\n",
              "      <td>Washington D.C.</td>\n",
              "      <td>Male</td>\n",
              "      <td>55</td>\n",
              "      <td>63451.0</td>\n",
              "    </tr>\n",
              "    <tr>\n",
              "      <th>134662</th>\n",
              "      <td>San Diego</td>\n",
              "      <td>Male</td>\n",
              "      <td>25</td>\n",
              "      <td>102665.0</td>\n",
              "    </tr>\n",
              "    <tr>\n",
              "      <th>118385</th>\n",
              "      <td>Boston</td>\n",
              "      <td>Female</td>\n",
              "      <td>40</td>\n",
              "      <td>86719.0</td>\n",
              "    </tr>\n",
              "    <tr>\n",
              "      <th>146715</th>\n",
              "      <td>Austin</td>\n",
              "      <td>Male</td>\n",
              "      <td>61</td>\n",
              "      <td>105266.0</td>\n",
              "    </tr>\n",
              "    <tr>\n",
              "      <th>136741</th>\n",
              "      <td>San Diego</td>\n",
              "      <td>Male</td>\n",
              "      <td>45</td>\n",
              "      <td>115064.0</td>\n",
              "    </tr>\n",
              "  </tbody>\n",
              "</table>\n",
              "<p>108173 rows × 4 columns</p>\n",
              "</div>"
            ],
            "text/plain": [
              "                   City  Gender  Age    Income\n",
              "57023     New York City  Female   47  102622.0\n",
              "139875           Austin    Male   33   83817.0\n",
              "134221        San Diego    Male   47  100865.0\n",
              "31145     New York City  Female   35   68442.0\n",
              "133974        San Diego  Female   63  120262.0\n",
              "...                 ...     ...  ...       ...\n",
              "124960  Washington D.C.    Male   55   63451.0\n",
              "134662        San Diego    Male   25  102665.0\n",
              "118385           Boston  Female   40   86719.0\n",
              "146715           Austin    Male   61  105266.0\n",
              "136741        San Diego    Male   45  115064.0\n",
              "\n",
              "[108173 rows x 4 columns]"
            ]
          },
          "metadata": {},
          "execution_count": 13
        }
      ]
    },
    {
      "cell_type": "code",
      "metadata": {
        "id": "R_E1ZASNdKqi"
      },
      "source": [
        "from sklearn.compose import make_column_transformer\n",
        "from sklearn.preprocessing import MinMaxScaler, OneHotEncoder\n",
        "from sklearn.model_selection import train_test_split\n",
        "\n",
        "# Kreirajmo transformator stupaca za X\n",
        "\n",
        "ct = make_column_transformer(\n",
        "    (MinMaxScaler(), [\"Age\", \"Income\"]), # Normalizacija numeričkih podataka\n",
        "    (OneHotEncoder(handle_unknown=\"ignore\"), [\"City\", \"Gender\"]) # One-hot encodanje kategorijskih podataka\n",
        ")\n",
        "\n",
        "# X & y\n",
        "X = df.drop(\"Illness\", axis=1)\n",
        "y = df[\"Illness\"]\n",
        "\n",
        "# Skupovi za treniranje i testiranje\n",
        "X_train, X_test, y_train, y_test = train_test_split(X, y, test_size=0.2, random_state=42)\n",
        "\n",
        "# Fittanje stupac-transformatora na skup za treniranje\n",
        "ct.fit(X_train)\n",
        "\n",
        "# Transformacija \n",
        "X_train_normal = ct.transform(X_train)\n",
        "X_test_normal = ct.transform(X_test)"
      ],
      "execution_count": 9,
      "outputs": []
    },
    {
      "cell_type": "code",
      "metadata": {
        "id": "48ICrnouih_v"
      },
      "source": [
        "y_train = y_train.str.replace(\"No\", \"0\")\n",
        "y_train = y_train.str.replace(\"Yes\", \"1\")"
      ],
      "execution_count": 10,
      "outputs": []
    },
    {
      "cell_type": "code",
      "metadata": {
        "id": "6gyAOE3xl0BT"
      },
      "source": [
        "y_test = y_test.str.replace(\"No\", \"0\")\n",
        "y_test = y_test.str.replace(\"Yes\", \"1\")"
      ],
      "execution_count": 11,
      "outputs": []
    },
    {
      "cell_type": "code",
      "metadata": {
        "id": "1mFrcNGfg914"
      },
      "source": [
        "y_train = pd.to_numeric(y_train)\n",
        "y_test = pd.to_numeric(y_test)"
      ],
      "execution_count": 12,
      "outputs": []
    },
    {
      "cell_type": "markdown",
      "metadata": {
        "id": "FXSHvJ4XWeQG"
      },
      "source": [
        "# Traženje najboljeg ML modela"
      ]
    },
    {
      "cell_type": "markdown",
      "metadata": {
        "id": "PlnoSmOvYN0u"
      },
      "source": [
        "## Naivni Bayes\n",
        "\n",
        "Probajmo prvo s metodom Naivni Bayes. Možemo ju koristiti jer nismo imali značajnu korelaciju (povezanost) između input varijabli, a ta metoda upravo radi pod naivnom pretpostavkom da su input varijable međusobno nezavisne."
      ]
    },
    {
      "cell_type": "code",
      "metadata": {
        "colab": {
          "base_uri": "https://localhost:8080/"
        },
        "id": "W2KAxV8GnUi1",
        "outputId": "aa8fb89b-043c-4720-b542-867bc408680c"
      },
      "source": [
        "from sklearn.naive_bayes import MultinomialNB\n",
        "\n",
        "mnb = MultinomialNB().fit(X_train_normal, y_train)\n",
        "print(\"score on test: \" + str(mnb.score(X_test_normal, y_test)))\n",
        "print(\"score on train: \"+ str(mnb.score(X_train_normal, y_train)))"
      ],
      "execution_count": null,
      "outputs": [
        {
          "output_type": "stream",
          "name": "stdout",
          "text": [
            "score on test: 0.9182073657742937\n",
            "score on train: 0.9191665202961922\n"
          ]
        }
      ]
    },
    {
      "cell_type": "markdown",
      "metadata": {
        "id": "u4x5Y-teoAFG"
      },
      "source": [
        "Rezultati na trening skupu i test skupu su skoro identični, pa nemamo problem overfittanja. Dobili smo score od ~92%, no je li to dobro kao što se čini? Podsjetimo se koji je omjer zdravih i bolesnih ljudi.\n"
      ]
    },
    {
      "cell_type": "code",
      "metadata": {
        "colab": {
          "base_uri": "https://localhost:8080/"
        },
        "id": "7ajpk5xvpVIC",
        "outputId": "a59f3c1a-b603-460b-a957-961d289600d0"
      },
      "source": [
        "df.Illness.value_counts()"
      ],
      "execution_count": null,
      "outputs": [
        {
          "output_type": "execute_result",
          "data": {
            "text/plain": [
              "No     124261\n",
              "Yes     10956\n",
              "Name: Illness, dtype: int64"
            ]
          },
          "metadata": {},
          "execution_count": 76
        }
      ]
    },
    {
      "cell_type": "code",
      "metadata": {
        "colab": {
          "base_uri": "https://localhost:8080/"
        },
        "id": "9m2kprxkpe_x",
        "outputId": "c1547746-1456-4d02-cdef-e4d8d3e37d29"
      },
      "source": [
        "(124261)/(124261+10956)"
      ],
      "execution_count": null,
      "outputs": [
        {
          "output_type": "execute_result",
          "data": {
            "text/plain": [
              "0.9189746851357448"
            ]
          },
          "metadata": {},
          "execution_count": 69
        }
      ]
    },
    {
      "cell_type": "markdown",
      "metadata": {
        "id": "IVPvQWbWvhZy"
      },
      "source": [
        "Pogledajmo koliki je omjer u skupu za testiranje."
      ]
    },
    {
      "cell_type": "code",
      "metadata": {
        "colab": {
          "base_uri": "https://localhost:8080/"
        },
        "id": "kVArbb7Tvc9L",
        "outputId": "df9e192f-e9db-48a3-a06f-1cfd501c7616"
      },
      "source": [
        "y_test.value_counts()"
      ],
      "execution_count": null,
      "outputs": [
        {
          "output_type": "execute_result",
          "data": {
            "text/plain": [
              "0    24832\n",
              "1     2212\n",
              "Name: Illness, dtype: int64"
            ]
          },
          "metadata": {},
          "execution_count": 77
        }
      ]
    },
    {
      "cell_type": "code",
      "metadata": {
        "colab": {
          "base_uri": "https://localhost:8080/"
        },
        "id": "bBPU12tAvmBD",
        "outputId": "211b9dc6-5cdb-49ee-d394-6cdf252653d3"
      },
      "source": [
        "(24832)/(24832+2212)"
      ],
      "execution_count": null,
      "outputs": [
        {
          "output_type": "execute_result",
          "data": {
            "text/plain": [
              "0.9182073657742937"
            ]
          },
          "metadata": {},
          "execution_count": 78
        }
      ]
    },
    {
      "cell_type": "markdown",
      "metadata": {
        "id": "GhSv1wIjpmCo"
      },
      "source": [
        "Dakle, u skupu za testiranje je ~91.8% ljudi zdravo. Bez ikakve kreacije ML modela za predviđanje mogli bismo za bilo kakav input staviti da je output 0 i dobili bismo preciznost od 91.8%. Može se izvući zaključak da predikcijski model i nije nešto dobar i da želimo model koji ima bolji accuracy od 91.8%. To i možda neće biti lako, ali se postavlja također pitanje da li je accuracy najbolja mjera modela?\n",
        "\n",
        "S obzirom da je u pitanju bolest, možda želimo neku mjeru koja će nam reći koliko je pozitivnih slučajeva (dakle, bolesnih ljudi) dobro identificirano. Takva mjera je poznata pod imenom Recall kojem je jedan od ciljeva zabilježiti najveći mogući broj pozitivnih slučajeva.\n",
        "\n",
        "Formula Recalla je: TP/(TP+FN), gdje TP stoji za broj točno predviđenih pozitivnih slučajeva te FN stoji za broj krivo negativno klasificiranih ljudi (dakle, svi bolesni ljudi koje smo klasificirali kao zdrave).\n",
        "\n",
        "U slučaju da želimo \"imitirati\" model koji samo izbacuje vrijednost 0 i kao takav će imat accuracy od 91.8%, njegov recall će biti ravan 0 što je indikacija lošeg modela.\n",
        "\n",
        "Dakle, uz accuracy provjerimo i recall svakog modela."
      ]
    },
    {
      "cell_type": "code",
      "metadata": {
        "id": "xPzNNus0ToHj"
      },
      "source": [
        "y_pred = mnb.predict(X_test_normal)"
      ],
      "execution_count": null,
      "outputs": []
    },
    {
      "cell_type": "code",
      "metadata": {
        "colab": {
          "base_uri": "https://localhost:8080/"
        },
        "id": "xDyVxOHfUpcM",
        "outputId": "db0e175e-1363-49ea-ebaf-238148701e91"
      },
      "source": [
        "from sklearn.metrics import recall_score\n",
        "print('Recall: %.3f' % recall_score(y_test, y_pred))"
      ],
      "execution_count": null,
      "outputs": [
        {
          "output_type": "stream",
          "name": "stdout",
          "text": [
            "Recall: 0.000\n"
          ]
        }
      ]
    },
    {
      "cell_type": "markdown",
      "metadata": {
        "id": "PEptkyEWqbUj"
      },
      "source": [
        "## Algoritam K najbližih susjeda"
      ]
    },
    {
      "cell_type": "code",
      "metadata": {
        "colab": {
          "base_uri": "https://localhost:8080/"
        },
        "id": "F1dujqE-rt9M",
        "outputId": "a61ddc90-8041-4ba3-8074-68f4173a49ba"
      },
      "source": [
        "from sklearn.neighbors import KNeighborsClassifier\n",
        "knn = KNeighborsClassifier(algorithm = 'brute', n_jobs=-1)\n",
        "knn.fit(X_train_normal, y_train)\n",
        "print(\"train shape: \" + str(X_train_normal.shape))\n",
        "print(\"score on test: \" + str(knn.score(X_test_normal, y_test)))\n",
        "print(\"score on train: \"+ str(knn.score(X_train_normal, y_train)))"
      ],
      "execution_count": null,
      "outputs": [
        {
          "output_type": "stream",
          "name": "stdout",
          "text": [
            "train shape: (108173, 12)\n",
            "score on test: 0.9137331755657447\n",
            "score on train: 0.9205254545958789\n"
          ]
        }
      ]
    },
    {
      "cell_type": "markdown",
      "metadata": {
        "id": "xWBJCzJ2tgU3"
      },
      "source": [
        "Dugo vrijeme pokretanja koda i neželjeni rezultat od 91.37%.\n",
        "\n",
        "Pogledajmo svejedno recall score."
      ]
    },
    {
      "cell_type": "code",
      "metadata": {
        "id": "Z2FIDQIyVHaz"
      },
      "source": [
        "y_pred = knn.predict(X_test_normal)"
      ],
      "execution_count": null,
      "outputs": []
    },
    {
      "cell_type": "code",
      "metadata": {
        "colab": {
          "base_uri": "https://localhost:8080/"
        },
        "id": "cMxWii-_VNyU",
        "outputId": "02e82630-f47c-402c-9947-468fc0fb9ef4"
      },
      "source": [
        "print('Recall: %.3f' % recall_score(y_test, y_pred))"
      ],
      "execution_count": null,
      "outputs": [
        {
          "output_type": "stream",
          "name": "stdout",
          "text": [
            "Recall: 0.009\n"
          ]
        }
      ]
    },
    {
      "cell_type": "markdown",
      "metadata": {
        "id": "OEa4wQKgyX-a"
      },
      "source": [
        "Iako je model nešto lošiji od ostalih, bar je uspio prepoznati ~1% bolesnih ljudi, za razliku od ostalih modela koji imaju recall 0."
      ]
    },
    {
      "cell_type": "markdown",
      "metadata": {
        "id": "duj7eQSStrTR"
      },
      "source": [
        "## Slučajne šume"
      ]
    },
    {
      "cell_type": "code",
      "metadata": {
        "colab": {
          "base_uri": "https://localhost:8080/"
        },
        "id": "gLuPMLs-uCza",
        "outputId": "09aa758e-39df-4111-be74-e8eb60d9e0a8"
      },
      "source": [
        "from sklearn.ensemble import RandomForestClassifier\n",
        "rf = RandomForestClassifier(random_state = 42)\n",
        "rf.fit(X_train_normal, y_train)\n",
        "print(\"score on test: \" + str(rf.score(X_test_normal, y_test)))\n",
        "print(\"score on train: \"+ str(rf.score(X_train_normal, y_train)))"
      ],
      "execution_count": null,
      "outputs": [
        {
          "output_type": "stream",
          "name": "stdout",
          "text": [
            "score on test: 0.8652566188433664\n",
            "score on train: 0.9990940438002089\n"
          ]
        }
      ]
    },
    {
      "cell_type": "code",
      "metadata": {
        "id": "wy5DClXN089w"
      },
      "source": [
        "y_pred = rf.predict(X_test_normal)"
      ],
      "execution_count": null,
      "outputs": []
    },
    {
      "cell_type": "code",
      "metadata": {
        "colab": {
          "base_uri": "https://localhost:8080/"
        },
        "id": "QZtw8qTb1_Pf",
        "outputId": "2cc60dda-9e54-4f18-ffe7-b2f8aa6d0d69"
      },
      "source": [
        "from sklearn.metrics import recall_score\n",
        "print('Recall: %.3f' % recall_score(y_test, y_pred))"
      ],
      "execution_count": null,
      "outputs": [
        {
          "output_type": "stream",
          "name": "stdout",
          "text": [
            "Recall: 0.063\n"
          ]
        }
      ]
    },
    {
      "cell_type": "markdown",
      "metadata": {
        "id": "NGGpXVSl0h3g"
      },
      "source": [
        "Score na trening skupu je odličan, ali je došlo do overfittanja. Iako accuracy nije dobar, bar je prepoznao 6% bolesnih ljudi u odnosu na ostale modele.\n",
        "Prvi pokušaj je rijetko dobar, pa ćemo prijeći na tunanje hyperparametara.\n",
        "\n",
        "Pogledajmo trenutne vrijednosti hyperparametara."
      ]
    },
    {
      "cell_type": "code",
      "metadata": {
        "colab": {
          "base_uri": "https://localhost:8080/"
        },
        "id": "Qvg-O_0X0wu3",
        "outputId": "5f56d0cc-7006-47ef-882c-49d082f741e9"
      },
      "source": [
        "from pprint import pprint\n",
        "\n",
        "print('Parameters currently in use:\\n')\n",
        "pprint(rf.get_params())"
      ],
      "execution_count": null,
      "outputs": [
        {
          "output_type": "stream",
          "name": "stdout",
          "text": [
            "Parameters currently in use:\n",
            "\n",
            "{'bootstrap': True,\n",
            " 'ccp_alpha': 0.0,\n",
            " 'class_weight': None,\n",
            " 'criterion': 'gini',\n",
            " 'max_depth': None,\n",
            " 'max_features': 'auto',\n",
            " 'max_leaf_nodes': None,\n",
            " 'max_samples': None,\n",
            " 'min_impurity_decrease': 0.0,\n",
            " 'min_impurity_split': None,\n",
            " 'min_samples_leaf': 1,\n",
            " 'min_samples_split': 2,\n",
            " 'min_weight_fraction_leaf': 0.0,\n",
            " 'n_estimators': 100,\n",
            " 'n_jobs': None,\n",
            " 'oob_score': False,\n",
            " 'random_state': 42,\n",
            " 'verbose': 0,\n",
            " 'warm_start': False}\n"
          ]
        }
      ]
    },
    {
      "cell_type": "markdown",
      "metadata": {
        "id": "GO3dEqLq1CeH"
      },
      "source": [
        "Najbitniji parametri su broj stabala (`n_estimators`) i broj atributa koji se koristi pri razdvajanju (splitanju) u svakom listu (`max_features`).\n",
        "\n",
        "Također ćemo probati mijenjati maksimalan broj nivoa u svakom stablu odlučivanja (`max_depth`), minimalan broj podataka u node-u prije splita (`min_samples_split`), minimalan broj podataka u listu (`min_samples_leaf`) i metodu bootstrapanja (`bootstrap`) (bez ponavljanja ili sa dozvoljenim ponavljanjem)."
      ]
    },
    {
      "cell_type": "markdown",
      "metadata": {
        "id": "GxYCrkY03ED1"
      },
      "source": [
        "Kreirajmo parametarsku rešetku (grid). U svakoj iteraciji algoritam će izabrati jednu od mogućih kombinacija parametara."
      ]
    },
    {
      "cell_type": "code",
      "metadata": {
        "colab": {
          "base_uri": "https://localhost:8080/"
        },
        "id": "-Th3t6nM3JQB",
        "outputId": "54c602d1-5f93-4c9c-da49-b8aa415a7da6"
      },
      "source": [
        "from sklearn.model_selection import RandomizedSearchCV\n",
        "\n",
        "n_estimators = [30,40]\n",
        "max_features = ['auto', 'sqrt']\n",
        "max_depth = [int(x) for x in np.linspace(10, 60, num = 11)]\n",
        "max_depth.append(None)\n",
        "min_samples_split = [2, 5, 10]\n",
        "min_samples_leaf = [1, 2, 4]\n",
        "bootstrap = [True, False]\n",
        "random_grid = {'n_estimators': n_estimators,\n",
        "               'max_features': max_features,\n",
        "               'max_depth': max_depth,\n",
        "               'min_samples_split': min_samples_split,\n",
        "               'min_samples_leaf': min_samples_leaf,\n",
        "               'bootstrap': bootstrap}\n",
        "pprint(random_grid)\n"
      ],
      "execution_count": null,
      "outputs": [
        {
          "output_type": "stream",
          "name": "stdout",
          "text": [
            "{'bootstrap': [True, False],\n",
            " 'max_depth': [10, 15, 20, 25, 30, 35, 40, 45, 50, 55, 60, None],\n",
            " 'max_features': ['auto', 'sqrt'],\n",
            " 'min_samples_leaf': [1, 2, 4],\n",
            " 'min_samples_split': [2, 5, 10],\n",
            " 'n_estimators': [30, 40]}\n"
          ]
        }
      ]
    },
    {
      "cell_type": "code",
      "metadata": {
        "colab": {
          "base_uri": "https://localhost:8080/"
        },
        "id": "f2ismCre4VEe",
        "outputId": "42ba6824-eb6a-4328-cdde-b8c36b1eaefe"
      },
      "source": [
        "rf = RandomForestClassifier()\n",
        "rf_random = RandomizedSearchCV(estimator = rf, param_distributions = random_grid, n_iter = 100, cv = 3, verbose=2, random_state=42, n_jobs = -1)\n",
        "rf_random.fit(X_train_normal, y_train)"
      ],
      "execution_count": null,
      "outputs": [
        {
          "output_type": "stream",
          "name": "stdout",
          "text": [
            "Fitting 3 folds for each of 100 candidates, totalling 300 fits\n"
          ]
        },
        {
          "output_type": "stream",
          "name": "stderr",
          "text": [
            "[Parallel(n_jobs=-1)]: Using backend LokyBackend with 2 concurrent workers.\n",
            "[Parallel(n_jobs=-1)]: Done  37 tasks      | elapsed:  2.1min\n",
            "[Parallel(n_jobs=-1)]: Done 158 tasks      | elapsed:  8.1min\n",
            "[Parallel(n_jobs=-1)]: Done 300 out of 300 | elapsed: 15.7min finished\n"
          ]
        },
        {
          "output_type": "execute_result",
          "data": {
            "text/plain": [
              "RandomizedSearchCV(cv=3, error_score=nan,\n",
              "                   estimator=RandomForestClassifier(bootstrap=True,\n",
              "                                                    ccp_alpha=0.0,\n",
              "                                                    class_weight=None,\n",
              "                                                    criterion='gini',\n",
              "                                                    max_depth=None,\n",
              "                                                    max_features='auto',\n",
              "                                                    max_leaf_nodes=None,\n",
              "                                                    max_samples=None,\n",
              "                                                    min_impurity_decrease=0.0,\n",
              "                                                    min_impurity_split=None,\n",
              "                                                    min_samples_leaf=1,\n",
              "                                                    min_samples_split=2,\n",
              "                                                    min_weight_fraction_leaf=0.0,\n",
              "                                                    n_estimators=100,\n",
              "                                                    n_jobs...\n",
              "                                                    warm_start=False),\n",
              "                   iid='deprecated', n_iter=100, n_jobs=-1,\n",
              "                   param_distributions={'bootstrap': [True, False],\n",
              "                                        'max_depth': [10, 15, 20, 25, 30, 35,\n",
              "                                                      40, 45, 50, 55, 60,\n",
              "                                                      None],\n",
              "                                        'max_features': ['auto', 'sqrt'],\n",
              "                                        'min_samples_leaf': [1, 2, 4],\n",
              "                                        'min_samples_split': [2, 5, 10],\n",
              "                                        'n_estimators': [30, 40]},\n",
              "                   pre_dispatch='2*n_jobs', random_state=42, refit=True,\n",
              "                   return_train_score=False, scoring=None, verbose=2)"
            ]
          },
          "metadata": {},
          "execution_count": 90
        }
      ]
    },
    {
      "cell_type": "markdown",
      "metadata": {
        "id": "lfaePfYMNp5W"
      },
      "source": [
        "Pogledajmo najbolje parametre."
      ]
    },
    {
      "cell_type": "code",
      "metadata": {
        "colab": {
          "base_uri": "https://localhost:8080/"
        },
        "id": "BVxnPIt_NuBZ",
        "outputId": "31d69e7a-00d8-4f91-a0fd-f1a8b1373d12"
      },
      "source": [
        "rf_random.best_params_"
      ],
      "execution_count": null,
      "outputs": [
        {
          "output_type": "execute_result",
          "data": {
            "text/plain": [
              "{'bootstrap': True,\n",
              " 'max_depth': 10,\n",
              " 'max_features': 'sqrt',\n",
              " 'min_samples_leaf': 1,\n",
              " 'min_samples_split': 10,\n",
              " 'n_estimators': 40}"
            ]
          },
          "metadata": {},
          "execution_count": 91
        }
      ]
    },
    {
      "cell_type": "code",
      "metadata": {
        "colab": {
          "base_uri": "https://localhost:8080/"
        },
        "id": "PMsIqECUOLze",
        "outputId": "479e6d80-6c0a-4607-f24d-3cb7f37f870f"
      },
      "source": [
        "print(\"score on test: \" + str(rf_random.score(X_test_normal, y_test)))\n",
        "print(\"score on train: \"+ str(rf_random.score(X_train_normal, y_train)))"
      ],
      "execution_count": null,
      "outputs": [
        {
          "output_type": "stream",
          "name": "stdout",
          "text": [
            "score on test: 0.9182073657742937\n",
            "score on train: 0.9191665202961922\n"
          ]
        }
      ]
    },
    {
      "cell_type": "code",
      "metadata": {
        "id": "-ss8gjJoWAqQ"
      },
      "source": [
        "y_pred = rf_random.predict(X_test_normal)"
      ],
      "execution_count": null,
      "outputs": []
    },
    {
      "cell_type": "code",
      "metadata": {
        "colab": {
          "base_uri": "https://localhost:8080/"
        },
        "id": "ujCguPCLWHab",
        "outputId": "177792a2-659d-4d65-a3da-e13028351b51"
      },
      "source": [
        "print('Recall: %.3f' % recall_score(y_test, y_pred))"
      ],
      "execution_count": null,
      "outputs": [
        {
          "output_type": "stream",
          "name": "stdout",
          "text": [
            "Recall: 0.000\n"
          ]
        }
      ]
    },
    {
      "cell_type": "markdown",
      "metadata": {
        "id": "rubhG8s2OnUy"
      },
      "source": [
        "Dakle, bolje nego slučajna šuma s defaultnim parametrima, te isti rezultat kao i naivni Bayes.\n",
        "\n",
        "No, pogledajmo malo bolje brojke koje smo dobili. Podsjetimo da model koji za bilo kakav input izbacuje output=0 ima accuracy 0.9182073657742937 i recall = 0 na testnom skupu.\n",
        "U modelu slučajne šume (i Naivni Bayes!) smo dobili identičan accuracy i recall na testnom skupu, te se nameće se zaključak da oba modela izbacuju output = 0 neovisno o inputu. Generalno, za sve modele za koje smo dobili recall = 0 možemo izvući zaključak da niti jedna osoba koja je bolesna NIJE klasificirana kao bolesna osoba. "
      ]
    },
    {
      "cell_type": "markdown",
      "metadata": {
        "id": "bl1xY3xBomKQ"
      },
      "source": [
        "## Duboki modeli\n",
        "\n",
        "Zadnje što ćemo probati su duboki modeli za klasifikaciju. Napravit ćemo neuronsku mrežu s tunanjem hyperparametara kako bi dobili najbolji mogući model."
      ]
    },
    {
      "cell_type": "code",
      "metadata": {
        "colab": {
          "base_uri": "https://localhost:8080/"
        },
        "id": "cZoFoQGSpX8E",
        "outputId": "48cd5e6a-2c52-4dd2-f0dd-0d1da3eb81ad"
      },
      "source": [
        "type(y_train)"
      ],
      "execution_count": 17,
      "outputs": [
        {
          "output_type": "execute_result",
          "data": {
            "text/plain": [
              "pandas.core.series.Series"
            ]
          },
          "metadata": {},
          "execution_count": 17
        }
      ]
    },
    {
      "cell_type": "code",
      "metadata": {
        "id": "FSpY3dPWptp7"
      },
      "source": [
        "y_train = np.asarray(y_train).astype('float32')"
      ],
      "execution_count": 18,
      "outputs": []
    },
    {
      "cell_type": "code",
      "metadata": {
        "id": "1GM19rTJptsF"
      },
      "source": [
        "y_test = np.asarray(y_test).astype('float32')"
      ],
      "execution_count": 20,
      "outputs": []
    },
    {
      "cell_type": "code",
      "metadata": {
        "colab": {
          "base_uri": "https://localhost:8080/"
        },
        "id": "kISOu72TqXeV",
        "outputId": "b44626a4-28dc-4db7-b81a-9a98114d608e"
      },
      "source": [
        "X_train_normal.shape"
      ],
      "execution_count": 27,
      "outputs": [
        {
          "output_type": "execute_result",
          "data": {
            "text/plain": [
              "(108173, 12)"
            ]
          },
          "metadata": {},
          "execution_count": 27
        }
      ]
    },
    {
      "cell_type": "code",
      "metadata": {
        "id": "8_UltUFtrXIk"
      },
      "source": [
        "X_train = X_train_normal.reshape((-1,1))"
      ],
      "execution_count": 28,
      "outputs": []
    },
    {
      "cell_type": "code",
      "metadata": {
        "colab": {
          "base_uri": "https://localhost:8080/"
        },
        "id": "Nt16kRukrgk1",
        "outputId": "7190569a-c3d5-4f5f-d872-f0df09436b1c"
      },
      "source": [
        "X_train.shape"
      ],
      "execution_count": 29,
      "outputs": [
        {
          "output_type": "execute_result",
          "data": {
            "text/plain": [
              "(1298076, 1)"
            ]
          },
          "metadata": {},
          "execution_count": 29
        }
      ]
    },
    {
      "cell_type": "code",
      "metadata": {
        "colab": {
          "base_uri": "https://localhost:8080/"
        },
        "id": "2IR8-U5krtY9",
        "outputId": "bb500a53-b095-489d-aa7c-2ffb2c8a2078"
      },
      "source": [
        "nn_model = tf.keras.Sequential([\n",
        "   tf.keras.layers.Flatten(),\n",
        "   tf.keras.layers.Dense(128, activation=\"relu\"),\n",
        "   tf.keras.layers.Dense(1, activation=\"sigmoid\")                             \n",
        "])\n",
        "\n",
        "nn_model.compile(loss=tf.keras.losses.BinaryCrossentropy(),\n",
        "                 optimizer=tf.keras.optimizers.Adam(),\n",
        "                 metrics=[\"accuracy\"])\n",
        "\n",
        "nn_model.fit(X_train_normal, y_train, batch_size=32, epochs=5)"
      ],
      "execution_count": 30,
      "outputs": [
        {
          "output_type": "stream",
          "name": "stdout",
          "text": [
            "Epoch 1/5\n",
            "3381/3381 [==============================] - 7s 2ms/step - loss: 0.2846 - accuracy: 0.9185\n",
            "Epoch 2/5\n",
            "3381/3381 [==============================] - 6s 2ms/step - loss: 0.2817 - accuracy: 0.9192\n",
            "Epoch 3/5\n",
            "3381/3381 [==============================] - 6s 2ms/step - loss: 0.2816 - accuracy: 0.9192\n",
            "Epoch 4/5\n",
            "3381/3381 [==============================] - 6s 2ms/step - loss: 0.2814 - accuracy: 0.9192\n",
            "Epoch 5/5\n",
            "3381/3381 [==============================] - 6s 2ms/step - loss: 0.2816 - accuracy: 0.9192\n"
          ]
        },
        {
          "output_type": "execute_result",
          "data": {
            "text/plain": [
              "<keras.callbacks.History at 0x7fb9aa494d90>"
            ]
          },
          "metadata": {},
          "execution_count": 30
        }
      ]
    },
    {
      "cell_type": "code",
      "metadata": {
        "colab": {
          "base_uri": "https://localhost:8080/"
        },
        "id": "ENFLp90Hsy4e",
        "outputId": "4da09ff7-40d3-4958-cdd3-e50f91bbb9e4"
      },
      "source": [
        "nn_model.evaluate(X_test_normal, y_test)"
      ],
      "execution_count": 31,
      "outputs": [
        {
          "output_type": "stream",
          "name": "stdout",
          "text": [
            "846/846 [==============================] - 1s 1ms/step - loss: 0.2836 - accuracy: 0.9182\n"
          ]
        },
        {
          "output_type": "execute_result",
          "data": {
            "text/plain": [
              "[0.2835647761821747, 0.9182073473930359]"
            ]
          },
          "metadata": {},
          "execution_count": 31
        }
      ]
    },
    {
      "cell_type": "markdown",
      "metadata": {
        "id": "eZ2mhozztWTJ"
      },
      "source": [
        "Pogledajmo recall metriku."
      ]
    },
    {
      "cell_type": "code",
      "metadata": {
        "id": "rIa9fA6XtYPo"
      },
      "source": [
        "y_pred = np.round(nn_model.predict(X_test_normal))"
      ],
      "execution_count": 36,
      "outputs": []
    },
    {
      "cell_type": "code",
      "metadata": {
        "colab": {
          "base_uri": "https://localhost:8080/"
        },
        "id": "3eLTXJNOtbkh",
        "outputId": "61e1a088-9ce7-4028-86aa-b60c6f7b7498"
      },
      "source": [
        "from sklearn.metrics import recall_score\n",
        "print('Recall: %.3f' % recall_score(y_test, y_pred))"
      ],
      "execution_count": 37,
      "outputs": [
        {
          "output_type": "stream",
          "name": "stdout",
          "text": [
            "Recall: 0.000\n"
          ]
        }
      ]
    },
    {
      "cell_type": "markdown",
      "metadata": {
        "id": "zeIa26SN9WPE"
      },
      "source": [
        "Kao i uvijek, prvi pokušaj je rijetko dobar. Provedimo optimizaciju hyperparametara da nađemo najbolji model."
      ]
    },
    {
      "cell_type": "code",
      "metadata": {
        "colab": {
          "base_uri": "https://localhost:8080/"
        },
        "id": "WpgKlIbmy_kR",
        "outputId": "04fc303b-7a87-4f60-ec08-4ece8a00b1cf"
      },
      "source": [
        "pip install -U keras-tuner"
      ],
      "execution_count": 40,
      "outputs": [
        {
          "output_type": "stream",
          "name": "stdout",
          "text": [
            "Collecting keras-tuner\n",
            "  Downloading keras_tuner-1.0.4-py3-none-any.whl (97 kB)\n",
            "\u001b[?25l\r\u001b[K     |███▍                            | 10 kB 19.6 MB/s eta 0:00:01\r\u001b[K     |██████▊                         | 20 kB 24.1 MB/s eta 0:00:01\r\u001b[K     |██████████                      | 30 kB 17.3 MB/s eta 0:00:01\r\u001b[K     |█████████████▍                  | 40 kB 11.6 MB/s eta 0:00:01\r\u001b[K     |████████████████▊               | 51 kB 5.0 MB/s eta 0:00:01\r\u001b[K     |████████████████████            | 61 kB 5.1 MB/s eta 0:00:01\r\u001b[K     |███████████████████████▍        | 71 kB 4.9 MB/s eta 0:00:01\r\u001b[K     |██████████████████████████▊     | 81 kB 5.5 MB/s eta 0:00:01\r\u001b[K     |██████████████████████████████▏ | 92 kB 5.4 MB/s eta 0:00:01\r\u001b[K     |████████████████████████████████| 97 kB 3.0 MB/s \n",
            "\u001b[?25hRequirement already satisfied: tensorboard in /usr/local/lib/python3.7/dist-packages (from keras-tuner) (2.6.0)\n",
            "Requirement already satisfied: packaging in /usr/local/lib/python3.7/dist-packages (from keras-tuner) (21.0)\n",
            "Requirement already satisfied: ipython in /usr/local/lib/python3.7/dist-packages (from keras-tuner) (5.5.0)\n",
            "Collecting kt-legacy\n",
            "  Downloading kt_legacy-1.0.4-py3-none-any.whl (9.6 kB)\n",
            "Requirement already satisfied: requests in /usr/local/lib/python3.7/dist-packages (from keras-tuner) (2.23.0)\n",
            "Requirement already satisfied: numpy in /usr/local/lib/python3.7/dist-packages (from keras-tuner) (1.19.5)\n",
            "Requirement already satisfied: scipy in /usr/local/lib/python3.7/dist-packages (from keras-tuner) (1.4.1)\n",
            "Requirement already satisfied: pickleshare in /usr/local/lib/python3.7/dist-packages (from ipython->keras-tuner) (0.7.5)\n",
            "Requirement already satisfied: traitlets>=4.2 in /usr/local/lib/python3.7/dist-packages (from ipython->keras-tuner) (5.1.0)\n",
            "Requirement already satisfied: pygments in /usr/local/lib/python3.7/dist-packages (from ipython->keras-tuner) (2.6.1)\n",
            "Requirement already satisfied: prompt-toolkit<2.0.0,>=1.0.4 in /usr/local/lib/python3.7/dist-packages (from ipython->keras-tuner) (1.0.18)\n",
            "Requirement already satisfied: simplegeneric>0.8 in /usr/local/lib/python3.7/dist-packages (from ipython->keras-tuner) (0.8.1)\n",
            "Requirement already satisfied: pexpect in /usr/local/lib/python3.7/dist-packages (from ipython->keras-tuner) (4.8.0)\n",
            "Requirement already satisfied: setuptools>=18.5 in /usr/local/lib/python3.7/dist-packages (from ipython->keras-tuner) (57.4.0)\n",
            "Requirement already satisfied: decorator in /usr/local/lib/python3.7/dist-packages (from ipython->keras-tuner) (4.4.2)\n",
            "Requirement already satisfied: six>=1.9.0 in /usr/local/lib/python3.7/dist-packages (from prompt-toolkit<2.0.0,>=1.0.4->ipython->keras-tuner) (1.15.0)\n",
            "Requirement already satisfied: wcwidth in /usr/local/lib/python3.7/dist-packages (from prompt-toolkit<2.0.0,>=1.0.4->ipython->keras-tuner) (0.2.5)\n",
            "Requirement already satisfied: pyparsing>=2.0.2 in /usr/local/lib/python3.7/dist-packages (from packaging->keras-tuner) (2.4.7)\n",
            "Requirement already satisfied: ptyprocess>=0.5 in /usr/local/lib/python3.7/dist-packages (from pexpect->ipython->keras-tuner) (0.7.0)\n",
            "Requirement already satisfied: chardet<4,>=3.0.2 in /usr/local/lib/python3.7/dist-packages (from requests->keras-tuner) (3.0.4)\n",
            "Requirement already satisfied: certifi>=2017.4.17 in /usr/local/lib/python3.7/dist-packages (from requests->keras-tuner) (2021.5.30)\n",
            "Requirement already satisfied: idna<3,>=2.5 in /usr/local/lib/python3.7/dist-packages (from requests->keras-tuner) (2.10)\n",
            "Requirement already satisfied: urllib3!=1.25.0,!=1.25.1,<1.26,>=1.21.1 in /usr/local/lib/python3.7/dist-packages (from requests->keras-tuner) (1.24.3)\n",
            "Requirement already satisfied: werkzeug>=0.11.15 in /usr/local/lib/python3.7/dist-packages (from tensorboard->keras-tuner) (1.0.1)\n",
            "Requirement already satisfied: google-auth<2,>=1.6.3 in /usr/local/lib/python3.7/dist-packages (from tensorboard->keras-tuner) (1.35.0)\n",
            "Requirement already satisfied: wheel>=0.26 in /usr/local/lib/python3.7/dist-packages (from tensorboard->keras-tuner) (0.37.0)\n",
            "Requirement already satisfied: markdown>=2.6.8 in /usr/local/lib/python3.7/dist-packages (from tensorboard->keras-tuner) (3.3.4)\n",
            "Requirement already satisfied: tensorboard-plugin-wit>=1.6.0 in /usr/local/lib/python3.7/dist-packages (from tensorboard->keras-tuner) (1.8.0)\n",
            "Requirement already satisfied: absl-py>=0.4 in /usr/local/lib/python3.7/dist-packages (from tensorboard->keras-tuner) (0.12.0)\n",
            "Requirement already satisfied: protobuf>=3.6.0 in /usr/local/lib/python3.7/dist-packages (from tensorboard->keras-tuner) (3.17.3)\n",
            "Requirement already satisfied: tensorboard-data-server<0.7.0,>=0.6.0 in /usr/local/lib/python3.7/dist-packages (from tensorboard->keras-tuner) (0.6.1)\n",
            "Requirement already satisfied: google-auth-oauthlib<0.5,>=0.4.1 in /usr/local/lib/python3.7/dist-packages (from tensorboard->keras-tuner) (0.4.6)\n",
            "Requirement already satisfied: grpcio>=1.24.3 in /usr/local/lib/python3.7/dist-packages (from tensorboard->keras-tuner) (1.41.0)\n",
            "Requirement already satisfied: rsa<5,>=3.1.4 in /usr/local/lib/python3.7/dist-packages (from google-auth<2,>=1.6.3->tensorboard->keras-tuner) (4.7.2)\n",
            "Requirement already satisfied: pyasn1-modules>=0.2.1 in /usr/local/lib/python3.7/dist-packages (from google-auth<2,>=1.6.3->tensorboard->keras-tuner) (0.2.8)\n",
            "Requirement already satisfied: cachetools<5.0,>=2.0.0 in /usr/local/lib/python3.7/dist-packages (from google-auth<2,>=1.6.3->tensorboard->keras-tuner) (4.2.4)\n",
            "Requirement already satisfied: requests-oauthlib>=0.7.0 in /usr/local/lib/python3.7/dist-packages (from google-auth-oauthlib<0.5,>=0.4.1->tensorboard->keras-tuner) (1.3.0)\n",
            "Requirement already satisfied: importlib-metadata in /usr/local/lib/python3.7/dist-packages (from markdown>=2.6.8->tensorboard->keras-tuner) (4.8.1)\n",
            "Requirement already satisfied: pyasn1<0.5.0,>=0.4.6 in /usr/local/lib/python3.7/dist-packages (from pyasn1-modules>=0.2.1->google-auth<2,>=1.6.3->tensorboard->keras-tuner) (0.4.8)\n",
            "Requirement already satisfied: oauthlib>=3.0.0 in /usr/local/lib/python3.7/dist-packages (from requests-oauthlib>=0.7.0->google-auth-oauthlib<0.5,>=0.4.1->tensorboard->keras-tuner) (3.1.1)\n",
            "Requirement already satisfied: typing-extensions>=3.6.4 in /usr/local/lib/python3.7/dist-packages (from importlib-metadata->markdown>=2.6.8->tensorboard->keras-tuner) (3.7.4.3)\n",
            "Requirement already satisfied: zipp>=0.5 in /usr/local/lib/python3.7/dist-packages (from importlib-metadata->markdown>=2.6.8->tensorboard->keras-tuner) (3.6.0)\n",
            "Installing collected packages: kt-legacy, keras-tuner\n",
            "Successfully installed keras-tuner-1.0.4 kt-legacy-1.0.4\n"
          ]
        }
      ]
    },
    {
      "cell_type": "code",
      "metadata": {
        "colab": {
          "base_uri": "https://localhost:8080/"
        },
        "id": "f1fDYVTkwvSY",
        "outputId": "b872354c-24df-4faa-dca4-ae442b160f02"
      },
      "source": [
        "from kerastuner.tuners import RandomSearch\n",
        "\n",
        "def model_builder(hp):\n",
        "  model = tf.keras.Sequential()\n",
        "  model.add(tf.keras.layers.Flatten())\n",
        "  hp_units = hp.Int('units', min_value = 32, max_value = 512, step = 32)\n",
        "  model.add(tf.keras.layers.Dense(units = hp_units, activation = \"relu\"))\n",
        "  model.add(tf.keras.layers.Dense(1))\n",
        "  hp_learning_rate = hp.Choice('learning_rage', values = [1e-2, 1e-3, 1e-4])\n",
        "  model.compile(optimizer = tf.keras.optimizers.Adam(learning_rate = hp_learning_rate),\n",
        "                loss = tf.keras.losses.BinaryCrossentropy(from_logits = True),\n",
        "                metrics = [\"accuracy\"])\n",
        "  return model\n",
        "\n",
        "tuner = RandomSearch(model_builder,\n",
        "                        objective = 'val_accuracy',\n",
        "                        max_trials = 10)"
      ],
      "execution_count": 41,
      "outputs": [
        {
          "output_type": "stream",
          "name": "stderr",
          "text": [
            "/usr/local/lib/python3.7/dist-packages/ipykernel_launcher.py:1: DeprecationWarning: `import kerastuner` is deprecated, please use `import keras_tuner`.\n",
            "  \"\"\"Entry point for launching an IPython kernel.\n"
          ]
        }
      ]
    },
    {
      "cell_type": "code",
      "metadata": {
        "colab": {
          "base_uri": "https://localhost:8080/"
        },
        "id": "_Bsp_M8Nzg1L",
        "outputId": "b0cb7ce2-eb68-4772-ad0a-d83de2a06932"
      },
      "source": [
        "tuner.search(X_train_normal, y_train, validation_data=(X_test_normal, y_test), epochs=5, batch_size=32)"
      ],
      "execution_count": 44,
      "outputs": [
        {
          "output_type": "stream",
          "name": "stdout",
          "text": [
            "Trial 10 Complete [00h 00m 41s]\n",
            "val_accuracy: 0.9182073473930359\n",
            "\n",
            "Best val_accuracy So Far: 0.9182073473930359\n",
            "Total elapsed time: 00h 08m 55s\n",
            "INFO:tensorflow:Oracle triggered exit\n"
          ]
        }
      ]
    },
    {
      "cell_type": "markdown",
      "metadata": {
        "id": "4HgM-vmk8kyC"
      },
      "source": [
        "Dohvatimo najbolji model."
      ]
    },
    {
      "cell_type": "code",
      "metadata": {
        "id": "Dt68r03NzGe_"
      },
      "source": [
        "best_nn_model = tuner.get_best_models(1)[0]"
      ],
      "execution_count": 45,
      "outputs": []
    },
    {
      "cell_type": "code",
      "metadata": {
        "colab": {
          "base_uri": "https://localhost:8080/"
        },
        "id": "KPWAUzT225_h",
        "outputId": "9c8b80b8-021d-4297-89cc-a8dd099d9007"
      },
      "source": [
        "best_nn_model.evaluate(X_test_normal, y_test)"
      ],
      "execution_count": 46,
      "outputs": [
        {
          "output_type": "stream",
          "name": "stdout",
          "text": [
            "846/846 [==============================] - 1s 1ms/step - loss: 0.2834 - accuracy: 0.9182\n"
          ]
        },
        {
          "output_type": "execute_result",
          "data": {
            "text/plain": [
              "[0.2833653390407562, 0.9182073473930359]"
            ]
          },
          "metadata": {},
          "execution_count": 46
        }
      ]
    },
    {
      "cell_type": "markdown",
      "metadata": {
        "id": "MxIXdtv33CML"
      },
      "source": [
        "Izračunajmo recall.\n"
      ]
    },
    {
      "cell_type": "code",
      "metadata": {
        "id": "nIjGEz263EZG"
      },
      "source": [
        "y_pred = np.round(best_nn_model.predict(X_test_normal))"
      ],
      "execution_count": 47,
      "outputs": []
    },
    {
      "cell_type": "code",
      "metadata": {
        "id": "Wo5RhO0-3RkG"
      },
      "source": [
        "y_test = np.reshape(y_test, (27044,1))"
      ],
      "execution_count": 51,
      "outputs": []
    },
    {
      "cell_type": "code",
      "metadata": {
        "colab": {
          "base_uri": "https://localhost:8080/"
        },
        "id": "pMi51SU93Ebo",
        "outputId": "06d6d10c-388f-4dde-c384-b72fc5f2fdbe"
      },
      "source": [
        "print('Recall: %.3f' % recall_score(y_test, y_pred, average='micro'))"
      ],
      "execution_count": 54,
      "outputs": [
        {
          "output_type": "stream",
          "name": "stdout",
          "text": [
            "Recall: 0.000\n"
          ]
        }
      ]
    },
    {
      "cell_type": "markdown",
      "metadata": {
        "id": "GG74Ty934v-q"
      },
      "source": [
        "Ponovno recall = 0."
      ]
    },
    {
      "cell_type": "markdown",
      "metadata": {
        "id": "2l247nof4ydE"
      },
      "source": [
        "##***Zaključak***\n",
        "\n",
        "Svi modeli bacaju output 0 neovisno o inputu. Iako je accuracy takvih modela visokih ~92%, niti jedan od njih ne može klasificirati bolesnu osobu, iz čega slijedi da nismo našli dobar klasifikator.\n",
        "\n",
        "Jedna pretpostavka (koju sam razvio nakon početnog gledanja grafova) zašto nemamo dobar klasifikator je zato što je skup podataka možda slučajno generiran, a nije uzet iz pravog života, pa nemamo nikakvu povezanost između podataka."
      ]
    }
  ]
}